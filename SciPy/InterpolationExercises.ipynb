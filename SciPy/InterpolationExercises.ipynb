{
 "metadata": {
  "name": "",
  "signature": "sha256:d5a616ec7c38f6334d0fe35e05b09bddcaafaf293d12d1c64ce5b57bccee710d"
 },
 "nbformat": 3,
 "nbformat_minor": 0,
 "worksheets": [
  {
   "cells": [
    {
     "cell_type": "heading",
     "level": 1,
     "metadata": {},
     "source": [
      "Interpolation Exercises"
     ]
    },
    {
     "cell_type": "code",
     "collapsed": false,
     "input": [
      "pylab inline"
     ],
     "language": "python",
     "metadata": {},
     "outputs": [
      {
       "output_type": "stream",
       "stream": "stdout",
       "text": [
        "Populating the interactive namespace from numpy and matplotlib\n"
       ]
      }
     ],
     "prompt_number": 2
    },
    {
     "cell_type": "markdown",
     "metadata": {},
     "source": [
      "1. It is common to test functions where you know the answer they should give. Let's test the dipolePotential() function that we previously saved in Electrostatics.py to see that the function is zero along the bisector between the charges.\n",
      "First, set up a grid and evaluate the function."
     ]
    },
    {
     "cell_type": "code",
     "collapsed": false,
     "input": [
      "from Electrostatics import *\n",
      "x,y = np.meshgrid(np.arange(-5,5.01,0.5),np.arange(-5,5.01,0.5))\n",
      "Vdipole = dipolePotential(x,y,1e-9,2.)\n",
      "plt.contour(x,y,Vdipole,cmap=cm.coolwarm)\n",
      "plt.show()"
     ],
     "language": "python",
     "metadata": {},
     "outputs": [
      {
       "output_type": "stream",
       "stream": "stderr",
       "text": [
        "Electrostatics.py:15: RuntimeWarning: divide by zero encountered in divide\n",
        "  Vxy = k*q/np.sqrt(((x-Xc)**2 + (y-Yc)**2))\n"
       ]
      },
      {
       "metadata": {},
       "output_type": "display_data",
       "png": "[encoded data removed]",
       "text": [
        "<matplotlib.figure.Figure at 0x104e84b10>"
       ]
      }
     ],
     "prompt_number": 3
    },
    {
     "cell_type": "markdown",
     "metadata": {},
     "source": [
      "(a) Use a boolean mask to locate the positions where x=0. Look at the contour plot. This corresponds to a line through the center of the plot from the top to bottom at x=0."
     ]
    },
    {
     "cell_type": "code",
     "collapsed": false,
     "input": [
      "mask = (x == 0)"
     ],
     "language": "python",
     "metadata": {},
     "outputs": [],
     "prompt_number": 4
    },
    {
     "cell_type": "markdown",
     "metadata": {},
     "source": [
      "(b) Show with your mask that Vdipole for these locations is zero. i.e. print the value of Vdipole for these locations using your mask from part (a)."
     ]
    },
    {
     "cell_type": "code",
     "collapsed": false,
     "input": [
      "Vdipole[mask]"
     ],
     "language": "python",
     "metadata": {},
     "outputs": [
      {
       "metadata": {},
       "output_type": "pyout",
       "prompt_number": 5,
       "text": [
        "array([ 0.,  0.,  0.,  0.,  0.,  0.,  0.,  0.,  0.,  0.,  0.,  0.,  0.,\n",
        "        0.,  0.,  0.,  0.,  0.,  0.,  0.,  0.])"
       ]
      }
     ],
     "prompt_number": 5
    },
    {
     "cell_type": "markdown",
     "metadata": {},
     "source": [
      "\n",
      "(c) Now repeat parts (a) and (b) but this time set up the mask to locate the positions in the array where y=0. This represents a line through the center of the plot from left to right at y=0. Do the values for Vdipole make sense?"
     ]
    },
    {
     "cell_type": "code",
     "collapsed": false,
     "input": [
      "mask = (y == 0)\n"
     ],
     "language": "python",
     "metadata": {},
     "outputs": [],
     "prompt_number": 6
    },
    {
     "cell_type": "code",
     "collapsed": false,
     "input": [
      "Vdipole[mask]"
     ],
     "language": "python",
     "metadata": {},
     "outputs": [
      {
       "metadata": {},
       "output_type": "pyout",
       "prompt_number": 7,
       "text": [
        "array([  0.74896265,   0.93377161,   1.19834024,   1.59778698,\n",
        "         2.24688795,   3.42382925,   5.99170119,  14.38008286,\n",
        "                inf,  11.98340238,   0.        , -11.98340238,\n",
        "               -inf, -14.38008286,  -5.99170119,  -3.42382925,\n",
        "        -2.24688795,  -1.59778698,  -1.19834024,  -0.93377161,  -0.74896265])"
       ]
      }
     ],
     "prompt_number": 7
    },
    {
     "cell_type": "markdown",
     "metadata": {},
     "source": [
      "Yes, they make sense. Going from the left the numbers get bigger and bigger to positive infiniti and then drop to negative infiniti and then back to zero. "
     ]
    },
    {
     "cell_type": "heading",
     "level": 3,
     "metadata": {},
     "source": [
      "Question 2"
     ]
    },
    {
     "cell_type": "markdown",
     "metadata": {},
     "source": [
      "(a) Let's turn this look-up table into a continuous function. Write a reusable function Temp(Resistance) that takes any value of Resistance and returns the interpolated temperature. Be sure to include a docstring in your function. Check the documentation for interp1d to make sure you set up the arrays properly."
     ]
    },
    {
     "cell_type": "code",
     "collapsed": false,
     "input": [
      "%%file thermistor_data.dat\n",
      "10   3.239   16   2.610   22   2.169   28   1.857   34   1.634\n",
      "11   3.118   17   2.526   23   2.110   29   1.815   35   1.603\n",
      "12   3.004   18   2.446   24   2.053   30   1.774   36   1.574\n",
      "13   2.897   19   2.371   25   2.000   31   1.736   37   1.547\n",
      "14   2.795   20   2.300   26   1.950   32   1.700   38   1.521\n",
      "15   2.700   21   2.233   27   1.902   33   1.666   39   1.496"
     ],
     "language": "python",
     "metadata": {},
     "outputs": [
      {
       "output_type": "stream",
       "stream": "stdout",
       "text": [
        "Overwriting thermistor_data.dat\n"
       ]
      }
     ],
     "prompt_number": 8
    },
    {
     "cell_type": "code",
     "collapsed": false,
     "input": [
      "print open('thermistor_data.dat').read()\n",
      "open('thermistor_data.dat').close()"
     ],
     "language": "python",
     "metadata": {},
     "outputs": [
      {
       "output_type": "stream",
       "stream": "stdout",
       "text": [
        "10   3.239   16   2.610   22   2.169   28   1.857   34   1.634\n",
        "11   3.118   17   2.526   23   2.110   29   1.815   35   1.603\n",
        "12   3.004   18   2.446   24   2.053   30   1.774   36   1.574\n",
        "13   2.897   19   2.371   25   2.000   31   1.736   37   1.547\n",
        "14   2.795   20   2.300   26   1.950   32   1.700   38   1.521\n",
        "15   2.700   21   2.233   27   1.902   33   1.666   39   1.496\n"
       ]
      }
     ],
     "prompt_number": 9
    },
    {
     "cell_type": "code",
     "collapsed": false,
     "input": [
      "temp = np.loadtxt('thermistor_data.dat', unpack=True, usecols=[0,2,4,6,8])\n",
      "print temp"
     ],
     "language": "python",
     "metadata": {},
     "outputs": [
      {
       "output_type": "stream",
       "stream": "stdout",
       "text": [
        "[[ 10.  11.  12.  13.  14.  15.]\n",
        " [ 16.  17.  18.  19.  20.  21.]\n",
        " [ 22.  23.  24.  25.  26.  27.]\n",
        " [ 28.  29.  30.  31.  32.  33.]\n",
        " [ 34.  35.  36.  37.  38.  39.]]\n"
       ]
      }
     ],
     "prompt_number": 10
    },
    {
     "cell_type": "code",
     "collapsed": false,
     "input": [
      "temp = temp.reshape(1,30)\n",
      "temp = temp[0]\n",
      "temp = temp[::-1]\n",
      "temp"
     ],
     "language": "python",
     "metadata": {},
     "outputs": [
      {
       "metadata": {},
       "output_type": "pyout",
       "prompt_number": 12,
       "text": [
        "array([ 39.,  38.,  37.,  36.,  35.,  34.,  33.,  32.,  31.,  30.,  29.,\n",
        "        28.,  27.,  26.,  25.,  24.,  23.,  22.,  21.,  20.,  19.,  18.,\n",
        "        17.,  16.,  15.,  14.,  13.,  12.,  11.,  10.])"
       ]
      }
     ],
     "prompt_number": 12
    },
    {
     "cell_type": "code",
     "collapsed": false,
     "input": [
      "res = np.loadtxt('thermistor_data.dat', unpack=True, usecols=[1,3,5,7,9])\n",
      "res = res.reshape(1,30)\n",
      "res = res[0]\n",
      "res = res[::-1]\n",
      "res"
     ],
     "language": "python",
     "metadata": {},
     "outputs": [
      {
       "metadata": {},
       "output_type": "pyout",
       "prompt_number": 13,
       "text": [
        "array([ 1.496,  1.521,  1.547,  1.574,  1.603,  1.634,  1.666,  1.7  ,\n",
        "        1.736,  1.774,  1.815,  1.857,  1.902,  1.95 ,  2.   ,  2.053,\n",
        "        2.11 ,  2.169,  2.233,  2.3  ,  2.371,  2.446,  2.526,  2.61 ,\n",
        "        2.7  ,  2.795,  2.897,  3.004,  3.118,  3.239])"
       ]
      }
     ],
     "prompt_number": 13
    },
    {
     "cell_type": "code",
     "collapsed": false,
     "input": [
      "from scipy.interpolate import interp1d \n",
      "\n",
      "def Temp(Resistance):\n",
      "    tempInterp = interp1d(res,temp)\n",
      "    return tempInterp(Resistance)"
     ],
     "language": "python",
     "metadata": {},
     "outputs": [],
     "prompt_number": 14
    },
    {
     "cell_type": "code",
     "collapsed": false,
     "input": [
      "print Temp(3.239)\n",
      "print Temp(3)"
     ],
     "language": "python",
     "metadata": {},
     "outputs": [
      {
       "output_type": "stream",
       "stream": "stdout",
       "text": [
        "10.0\n",
        "12.0373831776\n"
       ]
      }
     ],
     "prompt_number": 15
    },
    {
     "cell_type": "markdown",
     "metadata": {},
     "source": [
      "(c) Create a new array Resistance that spans the full range covered by the thermistor data and has reasonably fine sampling (number of elements). Plot the interpolated temperatures Temp(Resistance) as a function of Resistance. Include as an annotation on the plot the value of the temperature for a resistance of 1.75 M\u03a9.|"
     ]
    },
    {
     "cell_type": "code",
     "collapsed": false,
     "input": [
      "Resistance = np.linspace(1.496,3.239,100)\n",
      "plt.plot(Resistance,Temp(Resistance))\n",
      "plt.xlabel('Resistance ($M\\Omega$)',fontsize=10)\n",
      "plt.ylabel(\"Temperature (Celsius)\",fontsize=10)\n",
      "\n",
      "plt.plot(1.75, Temp(1.75), 'r+',markersize = 20, markeredgewidth = 3)\n",
      "\n",
      "plt.annotate('Temperature for 1.75 $M\\Omega$',(1.75,Temp(1.75)), xytext=(2.5,30),fontsize=10,\n",
      "             arrowprops=dict(arrowstyle=\"->\", connectionstyle=\"arc3,rad=.2\"))\n"
     ],
     "language": "python",
     "metadata": {},
     "outputs": [
      {
       "metadata": {},
       "output_type": "pyout",
       "prompt_number": 22,
       "text": [
        "<matplotlib.text.Annotation at 0x106ebc7d0>"
       ]
      },
      {
       "metadata": {},
       "output_type": "display_data",
       "png": "[encoded data removed]",
       "text": [
        "<matplotlib.figure.Figure at 0x106871990>"
       ]
      }
     ],
     "prompt_number": 22
    },
    {
     "cell_type": "code",
     "collapsed": false,
     "input": [],
     "language": "python",
     "metadata": {},
     "outputs": []
    }
   ],
   "metadata": {}
  }
 ]
}