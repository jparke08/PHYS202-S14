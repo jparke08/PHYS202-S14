{
 "metadata": {
  "name": "",
  "signature": "sha256:4bf8e79812c0ee2810b105471804bf81457fe038c9485e8a10d98a7604f6fe05"
 },
 "nbformat": 3,
 "nbformat_minor": 0,
 "worksheets": [
  {
   "cells": [
    {
     "cell_type": "heading",
     "level": 1,
     "metadata": {},
     "source": [
      "Random Numbers, Monte Carlo Sampling and Simulation Exercises"
     ]
    },
    {
     "cell_type": "code",
     "collapsed": false,
     "input": [
      "%pylab inline\n",
      "import numpy as np\n",
      "import matplotlib.pyplot as plot"
     ],
     "language": "python",
     "metadata": {},
     "outputs": [
      {
       "output_type": "stream",
       "stream": "stdout",
       "text": [
        "Populating the interactive namespace from numpy and matplotlib\n"
       ]
      },
      {
       "output_type": "stream",
       "stream": "stderr",
       "text": [
        "WARNING: pylab import has clobbered these variables: ['plot', 'f', 'interactive']\n",
        "`%matplotlib` prevents importing * from pylab and numpy\n"
       ]
      }
     ],
     "prompt_number": 334
    },
    {
     "cell_type": "heading",
     "level": 3,
     "metadata": {},
     "source": [
      "Question 1"
     ]
    },
    {
     "cell_type": "markdown",
     "metadata": {},
     "source": [
      "(a) Solve for the CDF of the Weibull distribution analytically, using\n",
      "F(x)=\u222bx\u2212\u221ef(t)dt"
     ]
    },
    {
     "cell_type": "markdown",
     "metadata": {},
     "source": [
      "\\begin{equation}\n",
      "F(x) = 1 - e^{-(x/\\beta)^\\alpha}\n",
      "\\end{equation}"
     ]
    },
    {
     "cell_type": "markdown",
     "metadata": {},
     "source": [
      "(b) Find the inverse of the CDF F\u22121(x) analytically."
     ]
    },
    {
     "cell_type": "markdown",
     "metadata": {},
     "source": [
      "\\begin{equation}\n",
      "F^{-1}(z) = \\beta[-ln(1-z)]^{1/\\alpha}\n",
      "\\end{equation}"
     ]
    },
    {
     "cell_type": "markdown",
     "metadata": {},
     "source": [
      "(c) Write a program to generate 10,000 samples from the Weibull distribution and plot the true distribution, the CDF and the sampled distribution as a histogram, all on the same graph. Let \u03b1 = 1.5, \u03b2 = 6.\n",
      "Note: Do not use the built-in Weibull function from numpy.random."
     ]
    },
    {
     "cell_type": "code",
     "collapsed": false,
     "input": [
      "#Set up the functions and plot\n",
      "x = np.arange(0.,10.01,0.01)\n",
      "a = 1.5\n",
      "b = 6\n",
      "\n",
      "ff = lambda x: a*(b**(-a))*(x**(a-1))*exp(-(x/b)**a)\n",
      "F = lambda x: 1- exp(-(x/b)**a)\n",
      "Finv = lambda z: b*((-log(1-z))**(1/a))\n",
      "N = 10000\n",
      "z = numpy.random.random_sample(N)\n",
      "\n",
      "xsamples = Finv(z)\n",
      "\n",
      "#plt.plot(x, f(x),label=r'$f(x)=\\lambda e^{-\\lambda x}$')\n",
      "\n",
      "plt.plot(x, ff(x), label=\"True Distribution\", lw=3, color='red')\n",
      "plt.hist(xsamples, 100, normed=True, label=\"Sampled Distribution\")\n",
      "plt.plot(x, F(x), linewidth=5, label='CDF')\n",
      "plt.ylim(0,1.)\n",
      "plt.xlim(0,10.)\n",
      "plt.xlabel(r\"$x$\",fontsize = 20)\n",
      "plt.ylabel(r'$f(x),F(x)$',fontsize=20)\n",
      "plt.legend(loc=\"upper left\",fontsize=15)\n",
      "plt.show()\n",
      "\n",
      "\n",
      "\n",
      "\n"
     ],
     "language": "python",
     "metadata": {},
     "outputs": [
      {
       "metadata": {},
       "output_type": "display_data",
       "png": "[encoded data removed]",
       "text": [
        "<matplotlib.figure.Figure at 0x10669be50>"
       ]
      }
     ],
     "prompt_number": 335
    },
    {
     "cell_type": "markdown",
     "metadata": {},
     "source": [
      "(d) Run the four statistical tests of randomness (mean, variance, chi-square, K-S) on your results from question 1(c). Does it pass all of them?\n"
     ]
    },
    {
     "cell_type": "code",
     "collapsed": false,
     "input": [
      "m = xsamples.sum()/N\n",
      "print \"Mean:\",m"
     ],
     "language": "python",
     "metadata": {},
     "outputs": [
      {
       "output_type": "stream",
       "stream": "stdout",
       "text": [
        "Mean: 5.38061016968\n"
       ]
      }
     ],
     "prompt_number": 336
    },
    {
     "cell_type": "markdown",
     "metadata": {},
     "source": [
      "Yes, this is what we expect. "
     ]
    },
    {
     "cell_type": "code",
     "collapsed": false,
     "input": [
      "v = ((xsamples - m)**2).sum()/(N-1)\n",
      "s = sqrt(((xsamples - m)**2).sum()/(N-1))\n",
      "print \"Variance:\",v\n",
      "print \"Standard Deviation:\",s"
     ],
     "language": "python",
     "metadata": {},
     "outputs": [
      {
       "output_type": "stream",
       "stream": "stdout",
       "text": [
        "Variance: 13.3849556277\n",
        "Standard Deviation: 3.65854556179\n"
       ]
      }
     ],
     "prompt_number": 337
    },
    {
     "cell_type": "code",
     "collapsed": false,
     "input": [
      "print len(xsamples[(xsamples>(m-s)) & (xsamples<(m+s))])/float(N)*100\n",
      "print len(xsamples[(xsamples>(m-2*s)) & (xsamples<(m+2*s))])/float(N)*100"
     ],
     "language": "python",
     "metadata": {},
     "outputs": [
      {
       "output_type": "stream",
       "stream": "stdout",
       "text": [
        "69.84\n",
        "95.5\n"
       ]
      }
     ],
     "prompt_number": 338
    },
    {
     "cell_type": "markdown",
     "metadata": {},
     "source": [
      "Both criteria in the variance test passed. "
     ]
    },
    {
     "cell_type": "code",
     "collapsed": false,
     "input": [
      "\n",
      "k=1\n",
      "n,bins = np.histogram(xsamples,k,range=(1.,10.))\n",
      "totalsamples = n[0]\n",
      "k = totalsamples/5\n",
      "n,bins = np.histogram(xsamples,k,range=(1.,10.))\n",
      "while np.any(n<5) == True:\n",
      "    k-=1\n",
      "    n,bins = np.histogram(xsamples,k,range=(1.,10.))\n",
      "binlength = 9./k\n",
      "centers = bins[:-1]+(binlength/2)\n",
      "centersheight = ff(centers)\n",
      "E = centersheight*binlength*totalsamples\n",
      "chi_square = (((n-E)**2)/E).sum()\n",
      "print \"Chi-square =\",chi_square\n",
      "    "
     ],
     "language": "python",
     "metadata": {},
     "outputs": [
      {
       "output_type": "stream",
       "stream": "stdout",
       "text": [
        "Chi-square = 798.942815989\n"
       ]
      }
     ],
     "prompt_number": 339
    },
    {
     "cell_type": "markdown",
     "metadata": {},
     "source": [
      "It wasn't really clear to me how to check if this is right. "
     ]
    },
    {
     "cell_type": "code",
     "collapsed": false,
     "input": [
      "cdf_emp = np.zeros(len(bins))\n",
      "for i in range(len(bins)):\n",
      "    cdf_emp[i]=(n[0:i].sum()/float(totalsamples))\n",
      "K_plus = (cdf_emp-F(bins))*np.sqrt(totalsamples)\n",
      "print \"K+ max =\",K_plus.max()"
     ],
     "language": "python",
     "metadata": {},
     "outputs": [
      {
       "output_type": "stream",
       "stream": "stdout",
       "text": [
        "K+ max = 10.5349120562\n"
       ]
      }
     ],
     "prompt_number": 167
    },
    {
     "cell_type": "markdown",
     "metadata": {},
     "source": [
      "This is higher than expected. "
     ]
    },
    {
     "cell_type": "heading",
     "level": 3,
     "metadata": {},
     "source": [
      "Question 2"
     ]
    },
    {
     "cell_type": "markdown",
     "metadata": {},
     "source": [
      "(a) Write a program that uses the Rejection Sampling Method to generate a set of 10,000 samples from this distribution and plot the density distribution, the CDF, and a histogram of the sampled distribution on the same graph.\n",
      "Note: Do not use the built-in Beta function from numpy.random."
     ]
    },
    {
     "cell_type": "code",
     "collapsed": false,
     "input": [
      "f = lambda x: 60*(x**3)*(1-x)**2\n",
      "F = lambda x: 10*x**6-24*x**5+15*x**4\n",
      "x = np.arange(0.,1.01,0.01)\n",
      "N=10000\n",
      "samples_x = np.random.random_sample(N);\n",
      "samples_y =(2.0736)*np.random.random_sample(N);\n",
      "\n",
      "mask = (samples_y < f(samples_x))\n",
      "\n",
      "plt.plot(x,f(x),label = \"Density Distribution\")\n",
      "plt.plot(x,F(x),label = \"CDF\")\n",
      "plt.hist(samples_x[mask],50,normed = True,label = \"Sampled Distribution\")\n",
      "plt.show()\n"
     ],
     "language": "python",
     "metadata": {},
     "outputs": [
      {
       "metadata": {},
       "output_type": "display_data",
       "png": "[encoded data removed]",
       "text": [
        "<matplotlib.figure.Figure at 0x106dd3f10>"
       ]
      }
     ],
     "prompt_number": 177
    },
    {
     "cell_type": "markdown",
     "metadata": {},
     "source": [
      "\n",
      "(b) Run the four statistical tests of randomness (mean, variance, chi-square, K-S) on your results from question 2(a). Does it pass all of them?"
     ]
    },
    {
     "cell_type": "code",
     "collapsed": false,
     "input": [
      "m = samples_x[mask].sum()/len(samples_x[mask])\n",
      "print \"Mean:\",m"
     ],
     "language": "python",
     "metadata": {},
     "outputs": [
      {
       "output_type": "stream",
       "stream": "stdout",
       "text": [
        "Mean: 0.568683738425\n"
       ]
      }
     ],
     "prompt_number": 179
    },
    {
     "cell_type": "markdown",
     "metadata": {},
     "source": [
      "This is what we would expect."
     ]
    },
    {
     "cell_type": "code",
     "collapsed": false,
     "input": [
      "v = ((samples_x[mask] - m)**2).sum()/(len(samples_x[mask]-1))\n",
      "s = sqrt(v)\n",
      "print \"Variance:\",v\n",
      "print \"Standard Deviation:\",s"
     ],
     "language": "python",
     "metadata": {},
     "outputs": [
      {
       "output_type": "stream",
       "stream": "stdout",
       "text": [
        "Variance: 0.0312115717982\n",
        "Standard Deviation: 0.176667970493\n"
       ]
      }
     ],
     "prompt_number": 183
    },
    {
     "cell_type": "code",
     "collapsed": false,
     "input": [
      "xsamples = samples_x[mask]\n",
      "print len(xsamples[(xsamples>(m-s)) & (xsamples<(m+s))])/float(len(xsamples))*100\n",
      "print len(xsamples[(xsamples>(m-2*s)) & (xsamples<(m+2*s))])/float(len(xsamples))*100"
     ],
     "language": "python",
     "metadata": {},
     "outputs": [
      {
       "output_type": "stream",
       "stream": "stdout",
       "text": [
        "64.8285832301\n",
        "96.7988434531\n"
       ]
      }
     ],
     "prompt_number": 186
    },
    {
     "cell_type": "markdown",
     "metadata": {},
     "source": [
      "Variance test didn't get passed here. First value should be 68 percent. "
     ]
    },
    {
     "cell_type": "code",
     "collapsed": false,
     "input": [
      "k=1\n",
      "n,bins = np.histogram(xsamples,k,range=(0.,1.))\n",
      "totalsamples = n[0]\n",
      "k = totalsamples/5\n",
      "n,bins = np.histogram(xsamples,k,range=(0.,1.))\n",
      "while np.any(n<5) == True:\n",
      "    k-=1\n",
      "    n,bins = np.histogram(xsamples,k,range=(0.,1.))\n",
      "binlength = 1./k\n",
      "centers = bins[:-1]+(binlength/2)\n",
      "centersheight = ff(centers)\n",
      "E = centersheight*binlength*totalsamples\n",
      "chi_square = (((n-E)**2)/E).sum()\n",
      "print \"Chi-square =\",chi_square"
     ],
     "language": "python",
     "metadata": {},
     "outputs": [
      {
       "output_type": "stream",
       "stream": "stdout",
       "text": [
        "Chi-square = 90823.4791281\n"
       ]
      }
     ],
     "prompt_number": 187
    },
    {
     "cell_type": "markdown",
     "metadata": {},
     "source": [
      "Again, not sure exactly how this test works. "
     ]
    },
    {
     "cell_type": "code",
     "collapsed": false,
     "input": [
      "cdf_emp = np.zeros(len(bins))\n",
      "for i in range(len(bins)):\n",
      "    cdf_emp[i]=(n[0:i].sum()/float(totalsamples))\n",
      "K_plus = (cdf_emp-F(bins))*np.sqrt(totalsamples)\n",
      "print \"K+ max =\",K_plus.max()"
     ],
     "language": "python",
     "metadata": {},
     "outputs": [
      {
       "output_type": "stream",
       "stream": "stdout",
       "text": [
        "K+ max = 0.608089610997\n"
       ]
      }
     ],
     "prompt_number": 188
    },
    {
     "cell_type": "markdown",
     "metadata": {},
     "source": [
      "This test passed. "
     ]
    },
    {
     "cell_type": "heading",
     "level": 3,
     "metadata": {},
     "source": [
      "Question 3"
     ]
    },
    {
     "cell_type": "markdown",
     "metadata": {},
     "source": [
      "(a) Plot the Woods-Saxon distribution \u03c1(r) and r2\u03c1(r) for gold from r = 0 fm to r = 18 fm."
     ]
    },
    {
     "cell_type": "code",
     "collapsed": false,
     "input": [
      "p_r = lambda r,w,a,R : (1+w*(r**2/R**2))/(1+exp((r-R)/a))\n",
      "\n",
      "w = 0\n",
      "a = .535\n",
      "R = 6.38\n",
      "r = np.arange(0,18.01,.01)   #fm\n",
      "\n",
      "plt.plot(r,p_r(r,w,a,R),label = r'$\\ro (r)$')\n",
      "plt.ylabel(r'$\\rho $(r)',fontsize = 15)\n",
      "plt.xlabel(r'$r$',fontsize = 15)\n",
      "plt.show()"
     ],
     "language": "python",
     "metadata": {},
     "outputs": [
      {
       "metadata": {},
       "output_type": "display_data",
       "png": "[encoded data removed]",
       "text": [
        "<matplotlib.figure.Figure at 0x104da0f90>"
       ]
      }
     ],
     "prompt_number": 11
    },
    {
     "cell_type": "code",
     "collapsed": false,
     "input": [
      "plt.plot(r,p_r(r,w,a,R)*(r**2),label = r'$r^2\\rho (r)$')\n",
      "plt.ylabel(r'$r^2\\rho (r)$',fontsize=15)\n",
      "plt.xlabel(r'$r$',fontsize = 15)\n"
     ],
     "language": "python",
     "metadata": {},
     "outputs": [
      {
       "metadata": {},
       "output_type": "pyout",
       "prompt_number": 12,
       "text": [
        "<matplotlib.text.Text at 0x105367510>"
       ]
      },
      {
       "metadata": {},
       "output_type": "display_data",
       "png": "[encoded data removed]",
       "text": [
        "<matplotlib.figure.Figure at 0x104dac490>"
       ]
      }
     ],
     "prompt_number": 12
    },
    {
     "cell_type": "markdown",
     "metadata": {},
     "source": [
      "(b) Let\u2019s create a realistic distribution for two gold ions, A, and B.\n",
      "First, distribute 197 nucleons for each nucleus using the Woods-Saxon distribution multiplied by the spherical coordinate weighting factor, r2. Use the distribute1d function from the tour to sample r values numerically.\n",
      "Then, use uniform sampling of a number u from [0,1) scaled by 2\u03c0 to obtain the azimuthal angle \u03d5 = 2\u03c0u\n",
      "Followed by uniform sampling of another number v = [0,1), transformed to \u03b8=cos\u22121(2v\u22121) to obtain the polar angle \u03b8.\n",
      "(Note that this is the physics definition of azimuthal and polar angles, not the math definition.)\n",
      "The reason for these transformations is that the volume element dV=r2sin\u03b8drd\u03b8d\u03d5 has both radial and polar angle dependence. If you do not sample in this way, your results will be bunched up at the poles and toward the outer edges of the sphere."
     ]
    },
    {
     "cell_type": "code",
     "collapsed": false,
     "input": [
      "from IPython.html.widgets import interact, interactive\n",
      "from scipy.integrate import trapz,cumtrapz"
     ],
     "language": "python",
     "metadata": {},
     "outputs": [],
     "prompt_number": 13
    },
    {
     "cell_type": "code",
     "collapsed": false,
     "input": [
      "def distribute1D(x,prob,N):\n",
      "    \"\"\"takes any distribution which is directly proportional \n",
      "    to the number of particles, and returns data that is \n",
      "    statistically the same as the input data.\"\"\"\n",
      "    CDF = cumtrapz(prob)/np.sum(prob)\n",
      "    xsamples = np.zeros(N,float)\n",
      "    for i in range(0,N):\n",
      "        r = np.random.ranf()\n",
      "        xsamples[i] = x[CDF.searchsorted(r)]\n",
      "    return xsamples\n"
     ],
     "language": "python",
     "metadata": {},
     "outputs": [],
     "prompt_number": 14
    },
    {
     "cell_type": "code",
     "collapsed": false,
     "input": [
      "r_A = distribute1D(r,p_r(r,w,a,R)*(r**2),197)\n",
      "r_B = distribute1D(r,p_r(r,w,a,R)*(r**2),197)\n"
     ],
     "language": "python",
     "metadata": {},
     "outputs": [],
     "prompt_number": 222
    },
    {
     "cell_type": "code",
     "collapsed": false,
     "input": [
      "phi_A = 2*np.pi*np.random.random_sample(197)\n",
      "v_A = np.random.random_sample(197)\n",
      "theta_A = np.arccos(2*v_A-1)\n",
      "phi_B = 2*np.pi*np.random.random_sample(197)\n",
      "v_B = np.random.random_sample(197)\n",
      "theta_B = np.arccos(2*v_B-1)\n"
     ],
     "language": "python",
     "metadata": {},
     "outputs": [],
     "prompt_number": 223
    },
    {
     "cell_type": "markdown",
     "metadata": {},
     "source": [
      "(c) Once you have the spherical coordinates for each of the nucleons in each nucleus, convert to cartesian coordinates. In nuclear collisions, the beam axis along which the particles travel/collide is the z axis. The polar angle \u03b8 is measured up from the positive-z axis and the azimuthal angle \u03d5 is measured up from the positive x-axis.\n",
      "Plot the nuclei in 2d for two different planar projections: the the beam's eye view (x-y) and the side view (x-z) side-by-side.\n",
      "Let the nucleons have radius of 1 fm, make the nucleons from each nucleus a different color, and displace them by a randomly chosen impact parameter b between 0 and 18 fm. For example, shift ion A by b/2 to the left along the x-axis and B by b/2 to the right along the x-axis."
     ]
    },
    {
     "cell_type": "code",
     "collapsed": false,
     "input": [
      "x_A = r_A*np.cos(phi_A)*np.sin(theta_A)\n",
      "y_A = r_A*np.sin(phi_A)*np.sin(theta_A)\n",
      "z_A = r_A*np.cos(theta_A)\n",
      "\n",
      "x_B = r_B*np.cos(phi_B)*np.sin(theta_B)\n",
      "y_B = r_B*np.sin(phi_B)*np.sin(theta_B)\n",
      "z_B = r_B*np.cos(theta_B)"
     ],
     "language": "python",
     "metadata": {},
     "outputs": [],
     "prompt_number": 224
    },
    {
     "cell_type": "code",
     "collapsed": false,
     "input": [
      "b = 18*np.random.random()"
     ],
     "language": "python",
     "metadata": {},
     "outputs": [],
     "prompt_number": 229
    },
    {
     "cell_type": "code",
     "collapsed": false,
     "input": [
      "plt.subplot(1,2,1)\n",
      "plt.scatter(x_A-b/2,y_A,color = 'b',s = 10)\n",
      "plt.scatter(x_B+b/2,y_B,color = 'r',s = 10)\n",
      "plt.ylabel(\"y\",fontsize = 15)\n",
      "plt.xlabel('x',fontsize = 15)\n",
      "plt.xlim(-25,25)\n",
      "plt.subplot(1,2,2)\n",
      "plt.scatter(x_A-b/2,y_A,color = 'b',s = 10)\n",
      "plt.scatter(x_B+b/2,z_B,color = 'r',s = 10)\n",
      "plt.ylabel(\"z\",fontsize = 15)\n",
      "plt.xlabel('x',fontsize = 15)"
     ],
     "language": "python",
     "metadata": {},
     "outputs": [
      {
       "metadata": {},
       "output_type": "pyout",
       "prompt_number": 241,
       "text": [
        "<matplotlib.text.Text at 0x1097f85d0>"
       ]
      },
      {
       "metadata": {},
       "output_type": "display_data",
       "png": "[encoded data removed]",
       "text": [
        "<matplotlib.figure.Figure at 0x106dc06d0>"
       ]
      }
     ],
     "prompt_number": 241
    },
    {
     "cell_type": "code",
     "collapsed": false,
     "input": [
      "Bnucs = []\n",
      "for i in range(197):\n",
      "    Bnucs.append((x_B[i],y_B[i],z_B[i]))\n",
      "Bnucs = np.array(Bnucs)\n",
      "Bnucs"
     ],
     "language": "python",
     "metadata": {},
     "outputs": [
      {
       "metadata": {},
       "output_type": "pyout",
       "prompt_number": 306,
       "text": [
        "array([[ -1.92257934e+00,  -7.22268963e+00,   9.15064601e-01],\n",
        "       [  1.03845382e+01,   1.61608410e+00,   5.29929602e+00],\n",
        "       [ -7.09673722e+00,  -2.76314390e+00,   4.72048267e+00],\n",
        "       [  4.72513490e-01,  -2.72216594e+00,  -9.44956924e-01],\n",
        "       [  2.10010919e+00,  -4.11137140e+00,   1.15920948e+00],\n",
        "       [  9.06364060e+00,  -1.93669767e+00,  -6.94233543e+00],\n",
        "       [ -1.94470408e+00,  -1.05035930e+01,  -4.10804697e-01],\n",
        "       [ -8.25406541e-01,  -3.51201113e-02,   2.96713172e+00],\n",
        "       [ -2.23572095e+00,   1.38145212e+00,   6.55261336e+00],\n",
        "       [ -1.24310755e+00,  -2.85149131e+00,   4.29111651e+00],\n",
        "       [  6.20294559e-01,   1.18211119e+01,  -2.49297242e-01],\n",
        "       [ -4.15247786e+00,   7.89415333e+00,   8.49041152e-01],\n",
        "       [  4.91476039e+00,   7.90586114e+00,  -8.85804662e+00],\n",
        "       [ -6.18210411e-01,  -2.59805532e+00,   7.55169017e+00],\n",
        "       [  5.64149505e+00,  -9.69878637e-01,  -2.90676264e+00],\n",
        "       [ -1.84220338e+00,   8.86447009e-01,   2.53176644e-01],\n",
        "       [  4.03432335e+00,  -1.80898936e+00,  -1.81664323e+00],\n",
        "       [ -2.37521074e+00,  -7.93846356e+00,  -3.53825807e+00],\n",
        "       [ -1.70936963e-02,  -1.56921213e+00,   3.98191927e+00],\n",
        "       [ -1.89831664e+00,  -4.25572235e+00,   5.97842966e+00],\n",
        "       [  3.98424975e+00,   6.61810780e+00,   4.61805187e+00],\n",
        "       [  2.84420481e+00,  -1.97764070e+00,   4.75119314e+00],\n",
        "       [ -1.21150658e+00,  -1.05113493e+01,  -5.76595945e+00],\n",
        "       [  2.22980754e+00,  -2.06885389e+00,  -2.24280858e-01],\n",
        "       [ -2.43321201e-01,   4.61561965e+00,   2.53174841e+00],\n",
        "       [  2.31095592e+00,  -4.07049541e+00,   4.45220730e+00],\n",
        "       [  4.87767862e+00,  -5.15142379e-02,  -3.89142616e+00],\n",
        "       [  3.13126719e+00,  -1.39899912e+00,   6.98546524e-01],\n",
        "       [ -3.77536691e+00,   2.88736020e+00,  -1.41822276e+00],\n",
        "       [ -9.10046280e+00,   1.87181384e+00,  -8.52519686e-01],\n",
        "       [  9.48606213e+00,   1.89305923e-01,  -6.56889553e+00],\n",
        "       [  3.30259162e+00,  -2.32632553e-01,  -5.11146448e-01],\n",
        "       [ -2.15660103e+00,  -9.45847004e-01,   4.30842726e+00],\n",
        "       [ -3.18545252e+00,  -7.38014412e-01,   7.30124832e+00],\n",
        "       [ -2.89005376e-01,  -7.91943132e-01,  -8.13644283e+00],\n",
        "       [ -1.63069935e-01,  -3.17507844e+00,  -7.29752596e+00],\n",
        "       [  5.34936726e+00,  -2.28442243e+00,  -2.59664863e+00],\n",
        "       [  3.03147887e+00,   3.57841447e+00,  -3.44345524e-02],\n",
        "       [ -3.07513748e+00,   4.55013383e-01,  -2.88341677e+00],\n",
        "       [ -2.80386552e+00,  -2.62239916e-01,   2.04449710e+00],\n",
        "       [ -1.85549994e+00,  -2.05632208e+00,  -3.94899937e-02],\n",
        "       [  5.51940125e+00,  -9.19060866e-01,  -1.32358769e+01],\n",
        "       [  2.51120928e+00,  -1.68052806e+00,   7.36038989e-01],\n",
        "       [  4.15947903e+00,  -8.02799634e-01,  -9.88305083e-01],\n",
        "       [ -1.08112002e-01,   8.03903287e-01,   2.30122822e+00],\n",
        "       [  1.52464015e-01,   1.06308621e+00,  -7.85693976e+00],\n",
        "       [ -3.02610690e+00,  -3.83549649e+00,  -1.78091093e+00],\n",
        "       [  4.24831824e+00,  -1.78792983e+00,   4.23588233e+00],\n",
        "       [ -5.22916837e-01,  -5.65030606e+00,   1.04570523e+00],\n",
        "       [ -1.49381413e+00,  -3.13883938e+00,  -4.95163677e+00],\n",
        "       [  5.56951844e+00,   2.70859869e+00,  -7.17735031e+00],\n",
        "       [  3.61405403e+00,   4.02761093e+00,   7.16640521e+00],\n",
        "       [  1.86681933e+00,  -1.70670147e-01,   4.21164544e+00],\n",
        "       [  8.31507068e+00,  -9.01783376e-01,  -1.39885176e+00],\n",
        "       [ -6.37094050e-01,  -6.78198363e-01,  -9.50293718e-01],\n",
        "       [  3.59370741e+00,   9.14309285e-01,   2.96151319e-01],\n",
        "       [ -3.27529053e+00,  -4.64640632e+00,   3.35311501e+00],\n",
        "       [ -2.63548757e-01,   3.39635579e+00,  -2.35263882e+00],\n",
        "       [ -5.04049184e-01,  -4.20560089e-01,   4.08762323e+00],\n",
        "       [  3.41784571e+00,  -3.43375032e+00,   7.65580104e+00],\n",
        "       [  1.28922422e+00,   3.00859337e+00,   3.28874852e+00],\n",
        "       [ -2.57417125e+00,  -1.05649383e+00,   1.77410913e+00],\n",
        "       [ -4.51949245e+00,  -1.50184669e+00,   6.74347464e-01],\n",
        "       [  1.38636780e+00,   1.25237453e+00,  -4.01677014e+00],\n",
        "       [ -5.52121101e+00,   7.33363254e+00,   8.23182621e+00],\n",
        "       [ -1.79434590e+00,   1.17205167e+00,   4.96606158e-01],\n",
        "       [  2.33980248e+00,   4.04964421e-01,   1.10712609e+00],\n",
        "       [  5.04318662e+00,  -5.82466347e+00,  -6.82082577e+00],\n",
        "       [ -5.56126782e+00,  -6.40814992e+00,  -2.97119755e+00],\n",
        "       [  3.34433302e+00,   1.89713088e-02,   5.54235298e-01],\n",
        "       [  2.44390154e+00,  -2.29071011e+00,   1.97790102e+00],\n",
        "       [  2.04608031e-02,  -3.57126557e+00,  -7.35921488e+00],\n",
        "       [ -5.30536677e+00,   3.48908484e+00,   6.84945037e+00],\n",
        "       [ -4.75517752e+00,   3.88659572e+00,   5.41837249e+00],\n",
        "       [  1.09695895e+01,  -3.89558366e+00,  -4.76958431e+00],\n",
        "       [ -1.61861190e+00,  -1.33448731e+00,  -9.61205086e-02],\n",
        "       [ -7.24955034e-01,   3.70486925e+00,   4.94335757e+00],\n",
        "       [  3.09947158e-01,   2.22652462e+00,   1.34570460e+00],\n",
        "       [ -3.89069105e+00,  -3.66587653e+00,   1.56485538e+00],\n",
        "       [ -4.62734003e-01,  -8.58724925e+00,  -8.87776028e+00],\n",
        "       [  2.28165278e+00,  -5.62663399e-01,   6.60435996e+00],\n",
        "       [ -1.62705712e-01,  -9.76882962e-01,   3.95798263e+00],\n",
        "       [ -1.23650250e+00,  -3.77437543e+00,  -2.11545543e+00],\n",
        "       [ -6.78286054e+00,   3.22883853e+00,   3.64553215e+00],\n",
        "       [  3.36179614e+00,   1.19420954e+00,   6.56300924e+00],\n",
        "       [  2.87634265e+00,   4.08013926e+00,   2.16164673e+00],\n",
        "       [ -2.43293445e+00,   1.80664778e-01,  -6.33658348e+00],\n",
        "       [ -6.92200090e+00,  -1.02002073e+01,   3.40965911e+00],\n",
        "       [  3.68123082e+00,  -5.95437025e+00,  -4.45914953e+00],\n",
        "       [ -2.86436714e-01,   3.67286459e+00,   4.32324181e+00],\n",
        "       [  3.05321900e+00,   7.73965390e+00,  -8.52195466e+00],\n",
        "       [  1.20463596e+01,  -1.52805055e-01,   1.14783044e+01],\n",
        "       [  3.71836500e+00,  -2.04045864e+00,   2.20424370e+00],\n",
        "       [  2.88441168e+00,  -4.12014347e+00,   7.39108835e+00],\n",
        "       [  8.26483708e+00,   2.45396878e+00,   1.81289968e+00],\n",
        "       [  1.97884469e+00,  -1.01648537e+01,  -5.44813936e-01],\n",
        "       [  4.11426968e+00,  -3.77367185e+00,   1.29038201e+00],\n",
        "       [ -4.49017201e+00,   4.75965436e+00,   6.09160453e+00],\n",
        "       [ -3.29210118e+00,   3.66700597e+00,  -3.22602495e+00],\n",
        "       [  5.29382331e+00,   4.26032925e-01,  -1.67893736e+00],\n",
        "       [  4.40125897e+00,  -2.19953657e-01,   8.06808425e-01],\n",
        "       [  3.96294782e-01,   1.02049481e+00,  -1.47889850e+00],\n",
        "       [ -8.97739662e+00,  -1.01202397e+00,   9.10251250e-01],\n",
        "       [ -3.56784051e+00,  -2.94592230e+00,   1.27751941e+00],\n",
        "       [ -7.94035967e-01,   2.95045453e+00,   1.67107576e-01],\n",
        "       [ -5.12535368e+00,   5.85457513e+00,   6.15313739e+00],\n",
        "       [ -5.83037868e+00,  -2.54390664e-01,  -2.52815542e+00],\n",
        "       [ -5.49128451e+00,  -3.39576914e+00,  -9.08265579e-01],\n",
        "       [  3.45810473e+00,  -1.42740082e+00,  -2.51875734e+00],\n",
        "       [  2.32253978e+00,  -6.57391833e+00,  -3.84070395e+00],\n",
        "       [  4.28478686e+00,   4.49045913e-01,  -5.86833531e+00],\n",
        "       [  1.77864918e+00,  -1.11550270e+01,   3.02949924e-01],\n",
        "       [  7.74373368e+00,  -2.01831760e+00,   2.86548124e+00],\n",
        "       [  5.43880265e-01,   5.26811853e+00,  -1.19834110e+00],\n",
        "       [  3.99777241e+00,   3.01376774e-01,  -2.13039616e+00],\n",
        "       [  6.06295753e-01,   2.14173252e+00,   5.25827798e+00],\n",
        "       [ -1.68683744e+00,   5.75965626e+00,   2.27976737e+00],\n",
        "       [  5.94301967e+00,   4.52733235e+00,   3.59275367e+00],\n",
        "       [  2.80300657e+00,  -4.26870735e+00,  -1.03217814e+00],\n",
        "       [ -2.33388368e+00,  -3.24499375e+00,  -3.21557189e+00],\n",
        "       [ -1.09266598e+00,  -6.43052721e-01,   6.96555556e+00],\n",
        "       [ -6.99127097e+00,  -8.95161960e+00,   2.00591123e-01],\n",
        "       [ -5.58329245e+00,   3.12745534e+00,   5.17482063e+00],\n",
        "       [  4.70074377e+00,   3.35650357e+00,  -1.25099633e+00],\n",
        "       [  3.58012938e-01,  -4.23157429e+00,  -1.67647811e-01],\n",
        "       [  2.73878412e+00,   2.57378685e+00,  -4.67703782e+00],\n",
        "       [ -1.88138823e+00,   2.34389570e+00,   1.63190932e-01],\n",
        "       [ -2.70614761e+00,  -4.68921602e+00,   7.42590858e+00],\n",
        "       [  1.17146918e+00,  -8.84261486e-01,  -2.48954646e+00],\n",
        "       [ -6.07921037e+00,  -3.10844801e+00,  -6.73415565e+00],\n",
        "       [ -2.53766815e+00,   4.22473711e+00,  -4.62965095e-01],\n",
        "       [ -4.56392023e-01,   3.21958722e+00,   7.78842503e+00],\n",
        "       [ -1.99583855e+00,  -5.18651160e+00,   3.57894202e+00],\n",
        "       [  2.06641700e+00,  -6.17305238e+00,   5.68092819e+00],\n",
        "       [  8.13853796e-01,  -3.45978124e+00,   7.61101542e+00],\n",
        "       [ -4.73134162e+00,  -1.93816652e+00,   5.26798837e-01],\n",
        "       [ -3.14739209e+00,   8.92447289e+00,   5.50910218e+00],\n",
        "       [ -3.50466183e+00,   4.54373504e-01,   3.55119560e+00],\n",
        "       [  1.72346205e+00,  -1.41491798e+00,  -5.37587999e+00],\n",
        "       [  4.29369531e+00,   6.48897914e-01,   6.77831927e+00],\n",
        "       [  2.86964746e+00,  -3.00250857e+00,   4.44032271e+00],\n",
        "       [ -1.99362601e+00,   6.15449666e+00,   9.23374184e-02],\n",
        "       [  4.55012851e+00,   2.75806667e+00,  -1.35258965e+00],\n",
        "       [  2.94849976e+00,   4.89372969e+00,   7.31682192e-01],\n",
        "       [  6.02742998e+00,   5.84949485e+00,   1.48808530e+00],\n",
        "       [ -3.04020750e+00,  -3.24605615e+00,   5.95190371e+00],\n",
        "       [  1.48727923e+00,  -9.25549957e+00,  -2.56946067e+00],\n",
        "       [ -3.64289636e-01,  -4.14658537e-01,   6.33207200e-01],\n",
        "       [  9.92501341e-01,  -3.39444492e-01,   7.84741056e-01],\n",
        "       [  1.34018789e+00,   2.91477009e+00,   4.13048566e+00],\n",
        "       [ -7.83139225e+00,   7.67805472e+00,  -3.74764874e+00],\n",
        "       [  3.92260573e+00,   3.45485896e-03,   2.40940630e-01],\n",
        "       [  2.62176607e+00,   2.55339024e+00,  -4.88021936e+00],\n",
        "       [ -8.97916674e-01,   1.25601529e+00,  -7.40066019e+00],\n",
        "       [ -1.45218327e+00,  -1.12552356e+00,   2.82511247e+00],\n",
        "       [ -3.04370157e+00,   1.77001526e+00,   5.62961160e+00],\n",
        "       [ -7.90224791e+00,   5.79039755e-01,   2.53802893e+00],\n",
        "       [  5.59431444e+00,  -2.87865841e+00,   3.79993048e+00],\n",
        "       [  3.20852299e+00,  -1.85452886e+00,  -4.38334381e+00],\n",
        "       [ -6.13444739e-01,   1.98427808e+00,   1.61345160e+00],\n",
        "       [  1.21249777e+00,  -3.10047472e+00,   3.21773300e+00],\n",
        "       [ -7.56699215e+00,  -1.47772452e+00,   3.67267751e+00],\n",
        "       [  4.28191618e+00,  -6.89628580e+00,  -4.87722626e+00],\n",
        "       [ -4.59360834e+00,   3.74121113e+00,   1.79393470e+00],\n",
        "       [  8.18954326e+00,  -1.85409306e+00,   4.70977795e-01],\n",
        "       [ -4.43429461e+00,   4.40156065e-01,  -4.77327916e+00],\n",
        "       [ -9.91297061e-01,   1.65393941e+00,   1.59116767e+00],\n",
        "       [  1.55966315e+00,   4.17593492e-01,  -3.15034387e+00],\n",
        "       [ -3.36160085e+00,  -2.38438805e+00,  -3.61174935e+00],\n",
        "       [  5.39890134e+00,   4.70846621e+00,   2.18684941e+00],\n",
        "       [ -8.64200926e-01,  -6.46387566e+00,  -3.53947288e+00],\n",
        "       [ -4.67962405e+00,   1.68259691e+00,  -3.63532479e+00],\n",
        "       [ -1.47433110e+00,   6.10344638e+00,  -1.18038634e+01],\n",
        "       [  7.18264393e-01,   2.96921264e-01,   2.40766153e+00],\n",
        "       [  1.25948712e+00,   1.14332179e+01,  -3.01119921e+00],\n",
        "       [ -1.89668833e+00,   2.18270033e+00,  -6.16558940e+00],\n",
        "       [ -2.07079672e+00,   4.12957012e+00,   1.01555479e+00],\n",
        "       [  1.16188216e+00,  -2.60944527e-01,  -3.26991404e+00],\n",
        "       [  6.88343710e+00,   3.39714936e-01,   5.00986478e-01],\n",
        "       [ -1.01117842e+01,   7.99400579e+00,  -1.43826017e+00],\n",
        "       [ -5.60547312e+00,  -2.99202764e+00,  -2.61215270e+00],\n",
        "       [ -3.05497638e+00,  -2.61722169e+00,   4.68796291e-01],\n",
        "       [  5.88242595e+00,   5.75758718e-01,  -2.29372336e+00],\n",
        "       [ -2.99102726e+00,   2.28468254e+00,  -1.62603248e+00],\n",
        "       [  2.36599806e-03,   3.44143143e+00,  -1.61137956e+00],\n",
        "       [ -2.71593474e+00,   1.37993910e+01,  -4.51147484e+00],\n",
        "       [  6.37279706e+00,  -2.06408646e+00,   2.69358585e+00],\n",
        "       [  3.30165962e+00,  -1.85926435e+00,   4.86940241e+00],\n",
        "       [ -2.69729347e-01,   2.77402312e+00,  -1.53115702e+00],\n",
        "       [ -4.09157775e+00,   3.15814190e+00,   4.51051341e+00],\n",
        "       [  3.70047642e+00,  -2.51605055e-01,   2.93531415e+00],\n",
        "       [  2.35856660e+00,   5.80443073e+00,   2.37397293e+00],\n",
        "       [  3.31011176e+00,  -4.63220299e+00,   5.27289822e+00],\n",
        "       [  1.33441015e+00,   3.45319932e-01,   3.09712830e+00],\n",
        "       [ -1.93904210e+00,  -8.75708782e+00,   8.56521226e-01],\n",
        "       [  4.96592853e+00,   7.31893807e-01,   4.66115708e+00],\n",
        "       [ -6.57588867e+00,  -1.64978079e+00,   6.41881231e-01]])"
       ]
      }
     ],
     "prompt_number": 306
    },
    {
     "cell_type": "markdown",
     "metadata": {},
     "source": [
      "(d) Since we cannot measure the impact parameter directly for each collision, we need a method to estimate the geometric overlap so that we can categorize the collisions based on the number of nucleons participating in each collision and how many nucleon-nucleon collisions occurred. Nucleons that pass close enough to each other will experience an inelastic collision that will rip the quarks right out of the nucleon. The distance that dictates when an inelastic collision occurs is governed by the interaction cross-section, which has been measured very carefully at proton colliders. The inelastic cross-section at collision energy of 200 GeV is \u03c3inel = 42 mb (1 mb = 1 millibarn = 10\u221224 cm2 = 10\u221231 m2), defining an overlap area between two nucleons.\n",
      "Make an interact object for your two plots in part (c) that let's you vary the impact parameter from 0 to 18 fm. On the plots, change the color of the nucleons that \"participate\" in interactions to something else. (Let the participating nucleons in nucleus A be one color and those in nucleus B be another color.)\n",
      "To do this, you\u2019ll need to find all the nucleons from ion A that are within a distance, D, of a nucleon from ion B using D=\u03c3inel/\u03c0\u203e\u203e\u203e\u203e\u203e\u203e\u221a, where \u03c3inel is the cross sectional area measured in millibarns. Don\u2019t forget to convert the millibarns to fm2.\n"
     ]
    },
    {
     "cell_type": "code",
     "collapsed": false,
     "input": [
      "from IPython.html.widgets import interact, interactive\n",
      "from IPython.html import widgets "
     ],
     "language": "python",
     "metadata": {},
     "outputs": [],
     "prompt_number": 328
    },
    {
     "cell_type": "code",
     "collapsed": false,
     "input": [
      "d = np.sqrt(4.2/np.pi)\n",
      "def nuclear_collision(b):\n",
      "    p_r = lambda r,w,a,R : (1+w*(r**2/R**2))/(1+exp((r-R)/a))\n",
      "    w = 0\n",
      "    a = .535\n",
      "    R = 6.38\n",
      "    r = np.arange(0,18.01,.01) \n",
      "    \n",
      "    r_A = distribute1D(r,p_r(r,w,a,R)*(r**2),197)\n",
      "    r_B = distribute1D(r,p_r(r,w,a,R)*(r**2),197)\n",
      "    \n",
      "    phi_A = 2*np.pi*np.random.random_sample(197)\n",
      "    v_A = np.random.random_sample(197)\n",
      "    theta_A = np.arccos(2*v_A-1)\n",
      "    phi_B = 2*np.pi*np.random.random_sample(197)\n",
      "    v_B = np.random.random_sample(197)\n",
      "    theta_B = np.arccos(2*v_B-1)\n",
      "    \n",
      "    x_A = -(b/2)+r_A*np.cos(phi_A)*np.sin(theta_A)\n",
      "    y_A = r_A*np.sin(phi_A)*np.sin(theta_A)\n",
      "    z_A = r_A*np.cos(theta_A)\n",
      "\n",
      "    x_B = (b/2)+r_B*np.cos(phi_B)*np.sin(theta_B)\n",
      "    y_B = r_B*np.sin(phi_B)*np.sin(theta_B)\n",
      "    z_B = r_B*np.cos(theta_B)\n",
      "    \n",
      "    Anucs = []\n",
      "    for i in range(197):\n",
      "        Anucs.append((x_A[i],y_A[i],z_A[i]))    \n",
      "    Bnucs = []\n",
      "    for i in range(197):\n",
      "        Bnucs.append((x_B[i],y_B[i],z_B[i]))\n",
      "    \n",
      "    Aparticipators=[]\n",
      "    Bparticipators=[]\n",
      "    count = 0\n",
      "    for a in Anucs:\n",
      "        for b in Bnucs:\n",
      "            if sqrt(((a[0]-b[0])**2)+((a[1]-b[1])**2)+((a[2]-b[2])**2)) <= d:\n",
      "                Aparticipators.append(a)\n",
      "                Bparticipators.append(b)\n",
      "    \n",
      "    Anucs = np.array(Anucs)\n",
      "    Bnucs = np.array(Bnucs)\n",
      "    Aparticipators = np.array(Aparticipators)\n",
      "    Bparticipators = np.array(Bparticipators)\n",
      "    plt.subplot(1,2,1)\n",
      "    plt.scatter(Anucs[:,0],Anucs[:,1],color = 'b',s=10)\n",
      "    plt.scatter(Bnucs[:,0],Bnucs[:,1],color = 'r',s=10)\n",
      "    \n",
      "    if Aparticipators != [] and Bparticipators != []:\n",
      "        plt.scatter(Aparticipators[:,0],Aparticipators[:,1],color='yellow',s=10)\n",
      "        plt.scatter(Bparticipators[:,0],Bparticipators[:,1],color='orange',s=10)\n",
      "    \n",
      "    plt.ylabel(\"y\",fontsize = 15)\n",
      "    plt.xlabel('x',fontsize = 15)\n",
      "    plt.xlim(-25,25)\n",
      "    plt.subplot(1,2,2) \n",
      "    \n",
      "    plt.scatter(Anucs[:,0],Anucs[:,2],color = 'b',s=10)\n",
      "    plt.scatter(Bnucs[:,0],Bnucs[:,2],color = 'r',s=10)\n",
      "    \n",
      "    if Aparticipators != [] and Bparticipators != []:\n",
      "        plt.scatter(Aparticipators[:,0],Aparticipators[:,2],color='yellow',s=10)\n",
      "        plt.scatter(Bparticipators[:,0],Bparticipators[:,2],color='orange',s=10)\n",
      "    plt.ylabel(\"z\",fontsize = 15)\n",
      "    plt.xlabel('x',fontsize = 15)"
     ],
     "language": "python",
     "metadata": {},
     "outputs": [],
     "prompt_number": 332
    },
    {
     "cell_type": "code",
     "collapsed": false,
     "input": [
      "plots = interact(nuclear_collision,b=(0.,18.))"
     ],
     "language": "python",
     "metadata": {},
     "outputs": [
      {
       "metadata": {},
       "output_type": "display_data",
       "png": "[encoded data removed]",
       "text": [
        "<matplotlib.figure.Figure at 0x106b5be90>"
       ]
      }
     ],
     "prompt_number": 333
    },
    {
     "cell_type": "code",
     "collapsed": false,
     "input": [
      "print Anucs[0]"
     ],
     "language": "python",
     "metadata": {},
     "outputs": [
      {
       "output_type": "stream",
       "stream": "stdout",
       "text": [
        "0.0\n"
       ]
      }
     ],
     "prompt_number": 271
    },
    {
     "cell_type": "code",
     "collapsed": false,
     "input": [],
     "language": "python",
     "metadata": {},
     "outputs": []
    }
   ],
   "metadata": {}
  }
 ]
}