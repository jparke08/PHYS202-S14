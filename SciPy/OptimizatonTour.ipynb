{
 "metadata": {
  "name": "",
  "signature": "sha256:0b7a42c2710473862982b8f8ef2952bdd2d444df6f595461cfdaf2de4bafe880"
 },
 "nbformat": 3,
 "nbformat_minor": 0,
 "worksheets": [
  {
   "cells": [
    {
     "cell_type": "heading",
     "level": 1,
     "metadata": {},
     "source": [
      "Numerical Integration"
     ]
    },
    {
     "cell_type": "code",
     "collapsed": false,
     "input": [
      "\n",
      "%pylab inline\n",
      "import numpy as np\n",
      "import matplotlib.pyplot as plot"
     ],
     "language": "python",
     "metadata": {},
     "outputs": [
      {
       "output_type": "stream",
       "stream": "stdout",
       "text": [
        "Populating the interactive namespace from numpy and matplotlib\n"
       ]
      },
      {
       "output_type": "stream",
       "stream": "stderr",
       "text": [
        "WARNING: pylab import has clobbered these variables: ['plot']\n",
        "`%matplotlib` prevents importing * from pylab and numpy\n"
       ]
      }
     ],
     "prompt_number": 5
    },
    {
     "cell_type": "code",
     "collapsed": false,
     "input": [
      "def LinearLSqFit(x,y):\n",
      "    \"\"\"Take in arrays representing(x,y) values for a set of linearly varying\n",
      "    data and perform a linear least squares regression. Return the resulting\n",
      "    slope and intercept parameters of the best fit line with their uncertainties.\"\"\"\n",
      "    \n",
      "    xave = x.mean()\n",
      "    yave = y.mean()\n",
      "    x2ave = (x*x).mean()\n",
      "    xyave = (x*y).mean()\n",
      "    denom = (x2ave - xave**2)\n",
      "    m = (xyave - xave*yave)/denom\n",
      "    b = (x2ave*yave - xave*xyave)/denom\n",
      "    delta = y - (m*x + b)\n",
      "    d2ave = (delta*delta).mean()\n",
      "    n = len(y)\n",
      "    merr = sqrt((n-2)**(-1)*d2ave/denom)\n",
      "    berr = sqrt((n-2)**(-1)*d2ave*x2ave/denom)\n",
      "    \n",
      "    return m,b,merr,berr"
     ],
     "language": "python",
     "metadata": {},
     "outputs": [],
     "prompt_number": 6
    },
    {
     "cell_type": "code",
     "collapsed": false,
     "input": [
      "time = np.array([1.,2.,3.,4.,5.,6.,7.,8.,9.,10.]) #time in seconds\n",
      "position = np.array([7.75, 7.333, 6.89, 6.45, 5.96, 5.55, 5.10, 4.49, 3.93, 3.58]) #position in meters\n",
      "uncpos = np.array([0.02, 0.03,0.03, 0.04, 0.05, 0.06, 0.08, 0.11, 0.14, 0.17])#uncertainty in position, in meters"
     ],
     "language": "python",
     "metadata": {},
     "outputs": [],
     "prompt_number": 15
    },
    {
     "cell_type": "code",
     "collapsed": false,
     "input": [
      "m1,b1,m1err,b1err = LinearLSqFit(time,position)\n",
      "print \"slope= %.4f +/- %.4f\" % (m1, m1err)\n",
      "print \"intercept= %.4f +/- %.4f\" % (b1, b1err)"
     ],
     "language": "python",
     "metadata": {},
     "outputs": [
      {
       "output_type": "stream",
       "stream": "stdout",
       "text": [
        "slope= -0.4716 +/- 0.0080\n",
        "intercept= 8.2970 +/- 0.0495\n"
       ]
      }
     ],
     "prompt_number": 16
    },
    {
     "cell_type": "code",
     "collapsed": false,
     "input": [
      "#Create a function to plot the fit function\n",
      "f = lambda x,m,b: m*x + b\n",
      "mylabel=\"y=%.4f x + %.4f\" % (m1,b1)\n",
      "\n",
      "#Plot the data and the fit line \n",
      "fig = plt.figure(2,(10,6))\n",
      "plt.scatter(time,position,label=\"data\")\n",
      "plt.plot(time,f(time,m1,b1),label=mylabel)\n",
      "\n",
      "#Now plot a band around the result at the one-sigma error level\n",
      "plt.plot(time,f(time,m1-m1err,b1-b1err),'b:')\n",
      "plt.plot(time,f(time,m1+m1err,b1+b1err),'b:')\n",
      "\n",
      "plt.xlim(0.,11.)\n",
      "plt.ylim(3.,9.)\n",
      "\n",
      "plt.legend(loc=\"best\")\n",
      "plt.xlabel(\"time (s)\",fontsize=20)\n",
      "plt.ylabel(\"position (m)\",fontsize=20)\n",
      "\n",
      "plt.show()\n"
     ],
     "language": "python",
     "metadata": {},
     "outputs": [
      {
       "metadata": {},
       "output_type": "display_data",
       "png": "[encoded data removed]",
       "text": [
        "<matplotlib.figure.Figure at 0x106557950>"
       ]
      }
     ],
     "prompt_number": 17
    },
    {
     "cell_type": "code",
     "collapsed": false,
     "input": [
      "fig = plt.figure(3,(10,6))\n",
      "plt.errorbar(time,position,uncpos,fmt=\"bo\",label=\"data with errors\")\n",
      "\n",
      "plt.xlim(0.,11.)\n",
      "plt.ylim(3.,9.)\n",
      "\n",
      "plt.legend(loc=\"best\")\n",
      "plt.xlabel(\"time (s)\",fontsize=20)\n",
      "plt.ylabel(\"position (m)\",fontsize=20)\n",
      "\n",
      "plt.show()"
     ],
     "language": "python",
     "metadata": {},
     "outputs": [
      {
       "metadata": {},
       "output_type": "display_data",
       "png": "[encoded data removed]",
       "text": [
        "<matplotlib.figure.Figure at 0x1064b0110>"
       ]
      }
     ],
     "prompt_number": 18
    },
    {
     "cell_type": "code",
     "collapsed": false,
     "input": [
      "!cat radioactivedecay.dat"
     ],
     "language": "python",
     "metadata": {},
     "outputs": []
    },
    {
     "cell_type": "code",
     "collapsed": false,
     "input": [
      "data = np.loadtxt('radioactivedecay.dat')\n",
      "t = data[:,0]\n",
      "num = data[:,1]"
     ],
     "language": "python",
     "metadata": {},
     "outputs": []
    },
    {
     "cell_type": "code",
     "collapsed": false,
     "input": [
      "plt.plot(t,num,\"b*\")\n",
      "plt.xlabel(\"time (s)\",fontsize=20)\n",
      "plt.ylabel(\"N (remaining isotopes)\",fontsize=20)\n",
      "\n",
      "plt.show()"
     ],
     "language": "python",
     "metadata": {},
     "outputs": []
    },
    {
     "cell_type": "code",
     "collapsed": false,
     "input": [
      "#numpy\"s natural logarith is np.log()\n",
      "plt.plot(t,np.log(num),\"b*\")\n",
      "plt.xlabel(\"time (s)\",fontsize=20)\n",
      "plt.ylabel(\"log($N_{remaining}$)\",fontsize=20)\n",
      "\n",
      "plt.show"
     ],
     "language": "python",
     "metadata": {},
     "outputs": []
    },
    {
     "cell_type": "code",
     "collapsed": false,
     "input": [
      "B,lnA,Berr,lnAerr = LinearLSqFit(t,np.log(num))\n",
      "A = np.exp(lnA)\n",
      "Aerr = lnA*np.exp(lnA)*lnAerr #propagation of errors\n",
      "\n",
      "print \"B = %.4f +/- %.4f\" % (B, Berr)\n",
      "print \"lnA = %.4f +/- %.4f\" % (lnA, lnAerr)\n",
      "print \"A = %.4f +/- %.4f\" % (A, Aerr)"
     ],
     "language": "python",
     "metadata": {},
     "outputs": []
    },
    {
     "cell_type": "code",
     "collapsed": false,
     "input": [
      "plt.plot(t,np.log(num),\"b*\",label=\"data\")\n",
      "plt.xlabel(\"time (s)\",fontsize=20)\n",
      "plt.ylabel(\"log($N_{remaining}$)\",fontsize=20)\n",
      "\n",
      "plt.plot(t,f(t,B,lnA),label=\"linear fit\")\n",
      "plt.legend()\n",
      "\n",
      "plt.show()"
     ],
     "language": "python",
     "metadata": {},
     "outputs": []
    },
    {
     "cell_type": "code",
     "collapsed": false,
     "input": [
      "f2 = lambda x, B, A: A*np.exp(B*x)\n",
      "\n",
      "plt.plot(t,num,\"b*\",label=\"data\")\n",
      "plt.xlabel(\"time (s)\",fontsize=20)\n",
      "plt.ylabel(\"$N_{remaining}$\",fontsize=20)\n",
      "\n",
      "plt.plot(t,f2(t,B,A),label=\"fit\")\n",
      "plt.legend()\n",
      "\n",
      "plt.show()"
     ],
     "language": "python",
     "metadata": {},
     "outputs": []
    },
    {
     "cell_type": "code",
     "collapsed": false,
     "input": [
      "f2 = lambda x, B, A: A*np.exp(B*x)\n",
      "\n",
      "plt.plot(t,num,\"b*\",label=\"data\")\n",
      "plt.xlabel(\"time (s)\",fontsize=20)\n",
      "plt.ylabel(\"$N_{remaining}$\",fontsize=20)\n",
      "\n",
      "plt.plot(t,f2(t,B,A),label=\"fit\")\n",
      "plt.legend()\n",
      "\n",
      "plt.show()"
     ],
     "language": "python",
     "metadata": {},
     "outputs": []
    },
    {
     "cell_type": "code",
     "collapsed": false,
     "input": [
      "#Import the curve fitter from the scipy optimize package\n",
      "from scipy.optimize import curve_fit"
     ],
     "language": "python",
     "metadata": {},
     "outputs": []
    },
    {
     "cell_type": "code",
     "collapsed": false,
     "input": [
      "# Define some data (including uncertainties)\n",
      "x = np.array([0.0, 1.0, 2.0, 3.0, 4.0, 5.0])\n",
      "y = np.array([-1.78, 4.09, 8.85, 17.9, 26.1, 35.2])\n",
      "yerr = np.array([0.460, 0.658, 0.528, 1.34, 1.09, 0.786])"
     ],
     "language": "python",
     "metadata": {},
     "outputs": []
    },
    {
     "cell_type": "code",
     "collapsed": false,
     "input": [
      "#plot the data to estimate the shape and parameters\n",
      "plt.errorbar(x,y,yerr,fmt=\"bo\")\n",
      "plt.xlim(-0.2,7)\n",
      "plt.ylim(-3.,40.)\n",
      "\n",
      "plt.show()"
     ],
     "language": "python",
     "metadata": {},
     "outputs": []
    },
    {
     "cell_type": "code",
     "collapsed": false,
     "input": [
      "m,b,merr,berr = LinearLSqFit(x,y)\n",
      "\n",
      "plt.errorbar(x,y,yerr,fmt=\"bo\",label=\"data\")\n",
      "plt.plot(x,f(x,m,b),\"r-\",label=\"linear fit\")\n",
      "\n",
      "plt.xlim(-0.2,7)\n",
      "plt.ylim(-3.,40.)\n",
      "\n",
      "plt.show()"
     ],
     "language": "python",
     "metadata": {},
     "outputs": []
    },
    {
     "cell_type": "code",
     "collapsed": false,
     "input": [
      "#Define the fit function\n",
      "def func(x, a, b, c):\n",
      "    return (a*x**2 + b*x + c)"
     ],
     "language": "python",
     "metadata": {},
     "outputs": []
    },
    {
     "cell_type": "code",
     "collapsed": false,
     "input": [
      "# Make initial guess at parameters\n",
      "p0 = [1.0, 3.0, -2.0]  \n",
      "     \n",
      "#Call the curve fitter and have it return the optimized parameters (popt) and covariance matrix (pcov)\n",
      "popt, pcov = curve_fit(func, x, y, p0, yerr)"
     ],
     "language": "python",
     "metadata": {},
     "outputs": []
    },
    {
     "cell_type": "code",
     "collapsed": false,
     "input": [
      "#Compute the parameter uncertainties from the covariance matrix\n",
      "punc = zeros(len(popt))\n",
      "for i in arange(0,len(popt)):\n",
      "    punc[i] = sqrt(pcov[i,i])\n",
      "\n",
      "#Print the result\n",
      "print \"optimal parameters: \", popt\n",
      "print \"uncertainties of parameters: \", punc"
     ],
     "language": "python",
     "metadata": {},
     "outputs": []
    },
    {
     "cell_type": "code",
     "collapsed": false,
     "input": [
      "#plot the fit result with the data\n",
      "fitresult = func(x,popt[0],popt[1],popt[2])\n",
      "\n",
      "plt.errorbar(x,y,yerr,fmt=\"b*\",label=\"data\")\n",
      "plt.plot(x,fitresult,'b-',label=\"quadratic fit\")\n",
      "plt.plot(x,f(x,m,b),'r-',label=\"linear fit\")\n",
      "\n",
      "plt.xlim(-0.2,7)\n",
      "plt.ylim(-3.,40.)\n",
      "\n",
      "plt.legend(loc=\"best\")\n",
      "plt.show()"
     ],
     "language": "python",
     "metadata": {},
     "outputs": []
    },
    {
     "cell_type": "code",
     "collapsed": false,
     "input": [
      "!cat waveform_1.npy"
     ],
     "language": "python",
     "metadata": {},
     "outputs": [
      {
       "output_type": "stream",
       "stream": "stdout",
       "text": [
        "\r\n",
        "\r\n",
        "\r\n",
        "\r\n",
        "\r\n",
        "\r\n",
        "\r\n",
        "\r\n",
        "\r\n",
        "\r\n",
        "\r\n",
        "<!DOCTYPE html PUBLIC \"-//W3C//DTD XHTML 1.0 Strict//EN\" \"http://www.w3.org/TR/xhtml1/DTD/xhtml1-strict.dtd\">\r\n",
        "<html xmlns=\"http://www.w3.org/1999/xhtml\" lang=\"en\">\r\n",
        "\t<head>\r\n",
        "\t    <title>Cal Poly Authentication</title>\r\n",
        "\t    <meta content=\"text/html; charset=utf-8\" http-equiv=\"Content-Type\" />\r\n",
        "\t    <meta content=\"Cal Poly, San Luis Obispo, a nationally ranked, four-year, public university that emphasizes a Learn By Doing educational experience; located minutes from California's Central Coast beaches.\" name=\"description\" />\r\n",
        "\t    <meta content=\"Cal Poly, California Polytechnic State University, San Luis Obispo, engineering, agriculture, business, architecture, liberal arts, four-year comprehensive, public university, nationally ranked\" name=\"keywords\" />\r\n",
        "\t    \r\n",
        "\t    <meta http-equiv=\"X-UA-Compatible\" content=\"IE=edge\" />\r\n",
        "\t    <meta name=\"viewport\" content=\"width=device-width, initial-scale=1, maximum-scale=1\">\r\n",
        "\t    <meta name=\"apple-mobile-web-app-capable\" content=\"yes\" />\r\n",
        "\t\r\n",
        "\t <meta http-equiv=\"Refresh\" content=\"1620; /cas/login\"> \r\n",
        "\r\n",
        "        <script type=\"text/javascript\">var NREUMQ=NREUMQ||[];NREUMQ.push([\"mark\",\"firstbyte\",new Date().getTime()]);</script><link type=\"image/x-icon\" href=\"favicon.ico\" rel=\"shortcut icon\" />\r\n",
        "        <link href=\"media/skins/sage/bootstrap/css/bootstrap.css\" media=\"screen\" type=\"text/css\" rel=\"stylesheet\" >\r\n",
        "        <link href=\"media/skins/sage/css/login.css\" media=\"screen\" type=\"text/css\" rel=\"stylesheet\" />\r\n",
        "        \r\n",
        "        \r\n",
        "\t\r\n",
        "\t\t\r\n",
        "\t\t<meta name=\"viewport\" content=\"initial-scale=1,user-scalable=no,maximum-scale=1\">\r\n",
        "\t\t        \r\n",
        "\t\r\n",
        "\t\t<script src=\"https://webresource.its.calpoly.edu/deployJava/2/deployJava.js\"><!--mce:0--></script>\r\n",
        "\t\t<script language=\"JavaScript\" type=\"text/javascript\">\r\n",
        "\t\t<!--\r\n",
        "\t\t\tfunction reportJavaVersion() {\r\n",
        "\t\t\t\tvar url = \"https://my.calpoly.edu/cas/clientData?javaVersion=\"+deployJava.getJREs();\r\n",
        "\t\t\t\tvar xmlHttp = new XMLHttpRequest();\r\n",
        "\t\t\t\txmlHttp.open(\"GET\", url, false);\r\n",
        "\t\t\t\txmlHttp.send(null);\r\n",
        "\t\t\t}\r\n",
        "\t\t-->\r\n",
        "\t\t</script>\r\n",
        "\t\r\n",
        "\t</head>   \r\n",
        "\r\n",
        "\t\r\n",
        "\t<body onload=\"reportJavaVersion()\">\r\n",
        "\t\r\n",
        "\t\t<div id = \"mainContainer\">\r\n",
        "        \r\n",
        "\t        \r\n",
        "        <header>\r\n",
        "        \t<div id = \"top\" class = \"navbar\">\r\n",
        "        \t\t<ul class = \"leftLinks nav\">\r\n",
        "        \t\t\t<li><a href = \"http://www.calpoly.edu/student/parents.html\">Parents</a></li>\r\n",
        "        \t\t\t<li><a href = \"http://servicedesk.calpoly.edu/my_cp_support/new_account_activation.html\">Account</a></li>\r\n",
        "        \t\t\t<li><a href = \"http://maps.calpoly.edu\">Map</a></li>\r\n",
        "        \t\t\t<li><a href = \"https://myportal.calpoly.edu/s/directory\">Directory</a></li>   \r\n",
        "        \t\t</ul>\r\n",
        "        \t</div>\r\n",
        "        </header>\r\n",
        "        <div id = \"bodyContainer\">\r\n",
        "        \r\n",
        "       \r\n",
        "              \r\n",
        "\r\n",
        "\r\n",
        "\r\n",
        "\r\n",
        "\r\n",
        "\r\n",
        "\r\n",
        "\r\n",
        "<div class = \"mobile-header\">\r\n",
        "\t<div class = \"sidebtn\">\r\n",
        "\t\t<button id = \"leftSidebarOpen\"><img src = \"media/skins/sage/images/sidebarslider.png\" width=\"20\" height=\"24\"/></button>\r\n",
        "\t</div>\r\n",
        "</div> \r\n",
        "<div id = \"loginContainer\" class=\"page-inner\">\r\n",
        "\t<div id=\"loginLogo\">\r\n",
        "\t\t<a href = \"http://www.calpoly.edu\" title=\"Cal Poly San Luis Obispo\">\r\n",
        "\t\t\t<img src = \"media/skins/sage/images/CP_Logo_Transparent.png\" alt = \"Cal Poly San Luis Obispo\"/>\r\n",
        "\t\t</a>\r\n",
        "\t</div> \r\n",
        "\r\n",
        "<div id=\"loginFormContainer\" >\r\n",
        "  \t<div id=\"loginForm\"> \r\n",
        "      \t<!-- BEGIN CAS -->\r\n",
        "\t\t\t<form id=\"fm1\" name=\"login_form\" action=\"/cas/login;jsessionid=BE51A3F82A9E827D9A550DF3D68311E2?service=https%3A%2F%2Fpolylearn.calpoly.edu%2FAY_2013-2014%2Flogin%2Findex.php\" method=\"post\">\r\n",
        "\r\n",
        "\t\t\t\t<div class=\"uportal-text-error\" style=\"margin-top: .5em; margin-bottom: .5em;\">\r\n",
        "\t\t\t\t\t\r\n",
        "\t\t\t\t</div>\r\n",
        "\t\t\t\t\r\n",
        "\t\t\t\t<div class=\"input-block first-block\">\r\n",
        "\t\t\t\t<label for=\"username\">Username</label>\r\n",
        "\t\t\t\t\r\n",
        "\t\t\t\t\r\n",
        "\t\t\t\t\r\n",
        "\t\t\t\t\t\r\n",
        "\t\t\t\t\t<input id=\"username\" name=\"username\" class=\"required input-medium\" tabindex=\"1\" accesskey=\"n\" type=\"text\" value=\"\" size=\"25\" autocomplete=\"false\"/>\r\n",
        "\t\t\t\t\r\n",
        "\t\t\t\t<span class=\"help-block\"><a href=\"http://servicedesk.calpoly.edu/my_cp_support/login.html\">Account Help</a></span>\r\n",
        "\t\t\t\t</div>\r\n",
        "\r\n",
        "\t\t\t\t<div class=\"input-block\">\r\n",
        "\t\t\t\t<label for=\"password\">Password</label>\r\n",
        "\t\t\t\t\r\n",
        "\r\n",
        "\t\t\t\t\r\n",
        "\t\t\t\t<input id=\"password\" name=\"password\" class=\"required input-medium\" tabindex=\"2\" accesskey=\"p\" type=\"password\" value=\"\" size=\"25\" autocomplete=\"off\"/>\r\n",
        "\t\t\t\t<span class=\"help-block\"><a href=\"https://myportal.calpoly.edu/s/password\">Forgot Password?</a></span>\r\n",
        "\t\t\t\t</div>\r\n",
        "\r\n",
        "\t\t\t\t<input type=\"hidden\" name=\"lt\" value=\"_cC4EE96B4-32E3-055E-1296-73195BABAC74_kEF12CA0E-6ADC-FFE4-E950-ABB4A197425D\" />\r\n",
        "\t\t\t\t<input type=\"hidden\" name=\"_eventId\" value=\"submit\" />\r\n",
        "\t\t\t\t<div class=\"submit-block\">\r\n",
        "\t\t\t\t\t<!--<label for=\"submitLogin\">Submit</label>-->\r\n",
        "\t\t\t\t\t<input id = \"submitLogin\" class=\"btn btn-success loginButton\" name=\"submit\" accesskey=\"l\" value=\"Sign In\" tabindex=\"4\" type=\"submit\" />\r\n",
        "\t\t\t\t</div>\r\n",
        "\t\t\t\t<!--input class=\"btn-reset\" name=\"reset\" accesskey=\"c\" value=\"CLEAR\" tabindex=\"5\" type=\"reset\" /-->\t\t\t\t\r\n",
        "\t\t</form>\r\n",
        "\t\t<!-- END CAS -->\t\r\n",
        "\t</div>\r\n",
        "\t<div id = \"mayday\">\r\n",
        "\t\t<h1>Critical System Status</h1>\r\n",
        "\t</div>\r\n",
        "</div>\r\n",
        "</div>\r\n",
        "\r\n",
        "    \t</div><!-- end bodyContainer-->\r\n",
        "        <footer>\r\n",
        "            <div id=\"loginLinks\">\r\n",
        "                <a href=\"http://security.calpoly.edu/content/policies/index\">Policy</a>\r\n",
        "                \t<i>|</i> <a href=\"https://myportal.calpoly.edu/help/feedback.html\">Feedback</a> \r\n",
        "                \t<i>|</i> <a href=\"http://servicedesk.calpoly.edu/my_cp_support/index.html\">FAQ/Help</a>\r\n",
        "            </div>\r\n",
        "        </footer>\r\n",
        "        \r\n",
        "        </div><!-- end main container-->\r\n",
        "        \r\n",
        "<script type=\"text/javascript\">if (!NREUMQ.f) { NREUMQ.f=function() {NREUMQ.push([\"load\",new Date().getTime()]);var e=document.createElement(\"script\");e.type=\"text/javascript\";e.src=((\"http:\"===document.location.protocol)?\"http:\":\"https:\") + \"//\" + \"js-agent.newrelic.com/nr-100.js\";document.body.appendChild(e);if(NREUMQ.a)NREUMQ.a();};NREUMQ.a=window.onload;window.onload=NREUMQ.f;};NREUMQ.push([\"nrfj\",\"beacon-6.newrelic.com\",\"4e34bbaf17\",\"2153696\",\"YldTYBRYXUVVURdZXFsde2c2FmRzdh8qfnUaRFhRERZZRUQdAFFfRV1dTUlMWhlXUxB8XFJbX2IPXEQYXkET\",0,2,new Date().getTime(),\"\",\"\",\"\",\"\",\"\"]);</script></body>\r\n",
        "\r\n",
        "<script src=\"media/skins/sage/js/jquery-1.9.1.js\" type=\"text/javascript\"></script>\r\n",
        "<script src=\"media/skins/sage/js/jquery-ui-1.10.1.custom.min.js\" type=\"text/javascript\"></script>\r\n",
        "<script src=\"media/skins/sage/js/detectMobile.js\" type=\"text/javascript\"></script>\r\n",
        "<script src=\"media/skins/sage/bootstrap/js/bootstrap.min.js\" type=\"text/javascript\"></script>\r\n",
        "<script src=\"media/skins/sage/js/systemStatus.js\" type=\"text/javascript\"></script>\r\n",
        "<script src=\"media/skins/sage/js/sidebar.js\" type=\"text/javascript\"></script>\r\n",
        "\r\n",
        "<script type=\"text/javascript\">\r\n",
        "$(document).ready(function() {\r\n",
        "\t\r\n",
        "\tif (!jQuery.browser.mobile){\r\n",
        "\t\t$(\"#username\").focus();\r\n",
        "\t}\r\n",
        "\t    \r\n",
        "});\r\n",
        "</script>\r\n",
        "\r\n",
        "\r\n",
        "\r\n",
        "</html>\r\n"
       ]
      }
     ],
     "prompt_number": 11
    },
    {
     "cell_type": "code",
     "collapsed": false,
     "input": [
      "waveform = np.load('waveform_1.npy')\n",
      "t = np.arange(len(waveform))"
     ],
     "language": "python",
     "metadata": {},
     "outputs": [],
     "prompt_number": 13
    },
    {
     "cell_type": "code",
     "collapsed": false,
     "input": [],
     "language": "python",
     "metadata": {},
     "outputs": []
    }
   ],
   "metadata": {}
  }
 ]
}