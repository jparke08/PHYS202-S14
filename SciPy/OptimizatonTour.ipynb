{
 "metadata": {
  "name": "",
  "signature": "sha256:f301e11a59e9985058b1c649e0b6fc488c499ce67aad911e586c4a2cf27cda5a"
 },
 "nbformat": 3,
 "nbformat_minor": 0,
 "worksheets": [
  {
   "cells": [
    {
     "cell_type": "heading",
     "level": 1,
     "metadata": {},
     "source": [
      "Numerical Integration"
     ]
    },
    {
     "cell_type": "code",
     "collapsed": false,
     "input": [
      "\n",
      "%pylab inline\n",
      "import numpy as np\n",
      "import matplotlib.pyplot as plot"
     ],
     "language": "python",
     "metadata": {},
     "outputs": [
      {
       "output_type": "stream",
       "stream": "stdout",
       "text": [
        "Populating the interactive namespace from numpy and matplotlib\n"
       ]
      }
     ],
     "prompt_number": 1
    },
    {
     "cell_type": "code",
     "collapsed": false,
     "input": [
      "def LinearLSqFit(x,y):\n",
      "    \"\"\"Take in arrays representing(x,y) values for a set of linearly varying\n",
      "    data and perform a linear least squares regression. Return the resulting\n",
      "    slope and intercept parameters of the best fit line with their uncertainties.\"\"\"\n",
      "    \n",
      "    xave = x.mean()\n",
      "    yave = y.mean()\n",
      "    x2ave = (x*x).mean()\n",
      "    xyave = (x*y).mean()\n",
      "    denom = (x2ave - xave**2)\n",
      "    m = (xyave - xave*yave)/denom\n",
      "    b = (x2ave*yave - xave*yave)/denom\n",
      "    delta = y - (m*x + b)\n",
      "    d2ave = (delta*delta).mean()\n",
      "    n = len(y)\n",
      "    merr = sqrt((n-2)**(-1)*d2ave/denom)\n",
      "    berr = sqrt((n-2)**(-1)*d2ave/denom)\n",
      "    \n",
      "    return m,b,merr,err"
     ],
     "language": "python",
     "metadata": {},
     "outputs": [],
     "prompt_number": 2
    },
    {
     "cell_type": "code",
     "collapsed": false,
     "input": [
      "time = np.array([1.,2.,3.,4.,5.,6.,7.,8.,9.,10.]) #time in seconds\n",
      "position = np.array([7.75, 7.333, 6.89, 6.45, 5.96, 5.55, 5.10, 4.49, 3.93, 3.58]) #position in meters\n",
      "uncpos = np.array([0.02, 0.03, 0.04, 0.05, 0.06, 0.08, 0.11, 0.14, 0.17])#uncertainty in position, in meters"
     ],
     "language": "python",
     "metadata": {},
     "outputs": [],
     "prompt_number": 3
    },
    {
     "cell_type": "code",
     "collapsed": false,
     "input": [
      "m1,b1,m1err,b1err"
     ],
     "language": "python",
     "metadata": {},
     "outputs": []
    }
   ],
   "metadata": {}
  }
 ]
}