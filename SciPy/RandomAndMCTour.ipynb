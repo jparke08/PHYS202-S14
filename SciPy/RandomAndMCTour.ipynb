{
 "metadata": {
  "name": "",
  "signature": "sha256:ac05f5429e63e4a4ceaed6b9f0f771ddffe1cba24f76e83783f8a9816cc9aa4a"
 },
 "nbformat": 3,
 "nbformat_minor": 0,
 "worksheets": [
  {
   "cells": [
    {
     "cell_type": "heading",
     "level": 1,
     "metadata": {},
     "source": [
      "Random Numbers, Monte-Carlo Sampling, and Simulation"
     ]
    },
    {
     "cell_type": "code",
     "collapsed": false,
     "input": [
      "%pylab inline\n",
      "import numpy as np\n",
      "import matplotlib.pyplot as plot"
     ],
     "language": "python",
     "metadata": {},
     "outputs": [
      {
       "output_type": "stream",
       "stream": "stdout",
       "text": [
        "Populating the interactive namespace from numpy and matplotlib\n"
       ]
      }
     ],
     "prompt_number": 1
    },
    {
     "cell_type": "code",
     "collapsed": false,
     "input": [
      "np.random?"
     ],
     "language": "python",
     "metadata": {},
     "outputs": [],
     "prompt_number": 2
    },
    {
     "cell_type": "code",
     "collapsed": false,
     "input": [
      "#print 5 uniformly distributed numbers between 0 and 1\n",
      "print np.random.random(5)\n",
      "#print another 5 - should be different\n",
      "print np.random.random(5)"
     ],
     "language": "python",
     "metadata": {},
     "outputs": [
      {
       "output_type": "stream",
       "stream": "stdout",
       "text": [
        "[ 0.83798514  0.33661493  0.90019771  0.99690848  0.996709  ]\n",
        "[ 0.50350565  0.83223596  0.95808971  0.0153498   0.85388768]\n"
       ]
      }
     ],
     "prompt_number": 3
    },
    {
     "cell_type": "code",
     "collapsed": false,
     "input": [
      "#now set the seed to something:\n",
      "np.random.seed(4242)\n",
      "\n",
      "#print 5 random numbers from the generator with this seed\n",
      "print \"Using seed = 4242:\"\n",
      "print np.random.random(5)"
     ],
     "language": "python",
     "metadata": {},
     "outputs": [
      {
       "output_type": "stream",
       "stream": "stdout",
       "text": [
        "Using seed = 4242:\n",
        "[ 0.32494949  0.94041458  0.91400794  0.28650938  0.78180262]\n"
       ]
      }
     ],
     "prompt_number": 6
    },
    {
     "cell_type": "code",
     "collapsed": false,
     "input": [
      "#Restore the seed to it's original 'None'\n",
      "np.random.seed(None)\n",
      "\n",
      "#print 5 more numbers using the new random seed\n",
      "print \"Using seed = None:\"\n",
      "print np.random.random(5)"
     ],
     "language": "python",
     "metadata": {},
     "outputs": [
      {
       "output_type": "stream",
       "stream": "stdout",
       "text": [
        "Using seed = None:\n",
        "[ 0.30020578  0.24412629  0.70623073  0.23623917  0.49641773]\n"
       ]
      }
     ],
     "prompt_number": 7
    },
    {
     "cell_type": "code",
     "collapsed": false,
     "input": [
      "#reset the seed to 4242 and print again\n",
      "np.random.seed(4242)\n",
      "print \"Using seed = 4242, we should get the same numbers as before\"\n",
      "print np.random.random(5)"
     ],
     "language": "python",
     "metadata": {},
     "outputs": [
      {
       "output_type": "stream",
       "stream": "stdout",
       "text": [
        "Using seed = 4242, we should get the same numbers as before\n",
        "[ 0.32494949  0.94041458  0.91400794  0.28650938  0.78180262]\n"
       ]
      }
     ],
     "prompt_number": 8
    },
    {
     "cell_type": "code",
     "collapsed": false,
     "input": [
      "#reset the seed\n",
      "np.random.seed(None)\n",
      "z = random.random(100000)\n",
      "plt.hist(z,100,normed=True);\n",
      "plt.plot([0,1.],[1.,1.],'r-',lw=3)\n",
      "plt.xlabel(\"x\",fontsize=20)\n",
      "plt.ylabel(\"sample probability\",fontsize=20)\n",
      "plt.show()"
     ],
     "language": "python",
     "metadata": {},
     "outputs": [
      {
       "metadata": {},
       "output_type": "display_data",
       "png": "[encoded data removed]",
       "text": [
        "<matplotlib.figure.Figure at 0x10636abd0>"
       ]
      }
     ],
     "prompt_number": 17
    },
    {
     "cell_type": "code",
     "collapsed": false,
     "input": [
      "x = np.arange(0.,np.pi+0.001,0.01)\n",
      "f = lambda x: np.sin(x)/2.\n",
      "F = lambda x: (np.cos(0)-np.cos(x))/2.\n",
      "\n",
      "plt.plot(x,f(x),label='True distribution',lw=3)\n",
      "plt.plot(x,F(x),label='Cumulative function',lw=3)\n",
      "\n",
      "plt.xlim(0,3.5)\n",
      "plt.ylim(0,1.1)\n",
      "\n",
      "plt.legend(loc=0)\n",
      "plt.show()"
     ],
     "language": "python",
     "metadata": {},
     "outputs": [
      {
       "metadata": {},
       "output_type": "display_data",
       "png": "[encoded data removed]",
       "text": [
        "<matplotlib.figure.Figure at 0x1063ae2d0>"
       ]
      }
     ],
     "prompt_number": 18
    },
    {
     "cell_type": "code",
     "collapsed": false,
     "input": [],
     "language": "python",
     "metadata": {},
     "outputs": []
    }
   ],
   "metadata": {}
  }
 ]
}