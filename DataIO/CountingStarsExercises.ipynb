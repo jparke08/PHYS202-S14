{
 "metadata": {
  "name": "",
  "signature": "sha256:63b8041698b5b2f641f5344f585b9f9a0ee2c9cddddafa64d69823a7bff13aa5"
 },
 "nbformat": 3,
 "nbformat_minor": 0,
 "worksheets": [
  {
   "cells": [
    {
     "cell_type": "heading",
     "level": 1,
     "metadata": {},
     "source": [
      "Counting Stars Exercises"
     ]
    },
    {
     "cell_type": "code",
     "collapsed": false,
     "input": [
      "%pylab inline\n",
      "import numpy as np\n",
      "import matplotlib.pyplot as plt\n",
      "from PIL import Image\n",
      "import requests\n",
      "from StringIO import StringIO"
     ],
     "language": "python",
     "metadata": {},
     "outputs": [
      {
       "output_type": "stream",
       "stream": "stdout",
       "text": [
        "Populating the interactive namespace from numpy and matplotlib\n"
       ]
      }
     ],
     "prompt_number": 5
    },
    {
     "cell_type": "markdown",
     "metadata": {},
     "source": [
      "1. Modify the fill function so that it never looks at the same pixel twice. There are at least two ways to do this. Name your new function fastfill. The function prototype might look something like this:\n"
     ]
    },
    {
     "cell_type": "code",
     "collapsed": false,
     "input": [
      "def fastfill(picture, xsize, ysize, xstart, ystart):\n",
      "    \"\"\"Faster fill algorithm that doesn't look at any pixel \n",
      "    more than once.\"\"\"\n",
      "    \n",
      "    queue = [(xstart,ystart)]\n",
      "    while queue:\n",
      "        x,y,queue = queue[0][0], queue[0][1], queue[1:]\n",
      "        if picture[x,y] == BLACK:\n",
      "            picture[x,y] = RED\n",
      "            if x > 0 and picture[x-1,y] != RED: #Checks to see if pixel to left is red\n",
      "                queue.append((x-1,y))\n",
      "            if x < (xsize-1) and picture[x+1,y] != RED: #Checks to see if pixel to right is red\n",
      "                queue.append((x+1,y))\n",
      "            if y > 0 and picture[x,y-1] != RED: #Checks to see if pixel above is red\n",
      "                queue.append((x, y-1))\n",
      "            if y < (ysize-1) and picture[x,y+1] != RED: #Checks to see if pixel below is red\n",
      "                queue.append((x, y+1))\n",
      "                "
     ],
     "language": "python",
     "metadata": {},
     "outputs": [],
     "prompt_number": 6
    },
    {
     "cell_type": "markdown",
     "metadata": {},
     "source": [
      "2. Modify your count function to take another argument - which fill function to use - and compare the time it takes to count the stars using the original fill, your improved fastfill, and the recursive recfill."
     ]
    },
    {
     "cell_type": "code",
     "collapsed": false,
     "input": [
      "BLACK = (0,0,0)\n",
      "RED = (255,0,0)\n",
      "def count(picture,filltype):\n",
      "    \"\"\"scan the image top to bottom and left to right using a nested loop.\n",
      "    when black pixel is found, increment the count, then call the fill\n",
      "    function to fill in all the pixels connected to that one.\"\"\"\n",
      "    xsize, ysize = picture.size\n",
      "    temp = picture.load()\n",
      "    result = 0\n",
      "    for x in range (xsize):\n",
      "        for y in range(ysize):\n",
      "            if temp[x,y]==BLACK:\n",
      "                result += 1\n",
      "                filltype(temp, xsize, ysize, x, y)\n",
      "    return result"
     ],
     "language": "python",
     "metadata": {},
     "outputs": [],
     "prompt_number": 7
    },
    {
     "cell_type": "code",
     "collapsed": false,
     "input": [
      "def fill(picture, xsize, ysize, xstart, ystart):\n",
      "    \"\"\"keep a list of pixels that need to be looked at, \n",
      "    but haven't yet been filled in - a list of the (x,y) \n",
      "    coordinates of pixels that are neighbors of ones we have \n",
      "    already examined.  Keep looping until there's nothing \n",
      "    left in this list\"\"\"\n",
      "    queue = [(xstart,ystart)]\n",
      "    while queue:\n",
      "        x,y,queue = queue[0][0], queue[0][1], queue[1:]\n",
      "        if picture[x,y] == BLACK:\n",
      "            picture[x,y] = RED\n",
      "            if x > 0:\n",
      "                queue.append((x-1,y))\n",
      "            if x < (xsize-1):\n",
      "                queue.append((x+1,y))\n",
      "            if y > 0:\n",
      "                queue.append((x, y-1))\n",
      "            if y < (ysize-1):\n",
      "                queue.append((x, y+1))"
     ],
     "language": "python",
     "metadata": {},
     "outputs": [],
     "prompt_number": 8
    },
    {
     "cell_type": "code",
     "collapsed": false,
     "input": [
      "def fillrec(picture, xsize, ysize, x, y):\n",
      "    \"\"\"each call to 'fillrec' takes care of one pixel, \n",
      "    then calls 'fillrec' again to take care of the neighbors\"\"\"\n",
      "    if picture[x,y] != BLACK:\n",
      "        return\n",
      "    picture[x,y] = RED\n",
      "    if x > 0:\n",
      "        fillrec(picture, xsize, ysize, x-1, y)\n",
      "    if x < (xsize-1):\n",
      "        fillrec(picture, xsize, ysize, x+1, y)\n",
      "    if y > 0:\n",
      "        fillrec(picture, xsize, ysize, x, y-1)\n",
      "    if y < (ysize-1):\n",
      "        fillrec(picture, xsize, ysize, x, y+1)"
     ],
     "language": "python",
     "metadata": {},
     "outputs": [],
     "prompt_number": 9
    },
    {
     "cell_type": "code",
     "collapsed": false,
     "input": [
      "from time import time\n",
      "def elapsed(func, picture, filltype):\n",
      "    \"\"\"takes a function and a picture as arguments, \n",
      "    applies the function to the picture, and returns \n",
      "    the elapsed time along with whatever the function \n",
      "    itself returned.\"\"\"    \n",
      "    start = time()\n",
      "    result = func(picture, filltype)\n",
      "    return time() - start, result"
     ],
     "language": "python",
     "metadata": {},
     "outputs": [],
     "prompt_number": 10
    },
    {
     "cell_type": "code",
     "collapsed": false,
     "input": [
      "response = requests.get(\"http://imgsrc.hubblesite.org/hu/db/images/hs-1993-13-a-large_web.jpg\") \n",
      "pic = Image.open(StringIO(response.content))\n",
      "\n",
      "def monochrome(picture, threshold):\n",
      "    \"\"\"loops over the pixels in the loaded image,\n",
      "    replacing the RGB values of each with either\n",
      "    black or white depending on whether its total\n",
      "    luminance is above or below some threshold\n",
      "    passed in by the user\"\"\"\n",
      "    black = (0, 0, 0)\n",
      "    white = (255, 255, 255)\n",
      "    xsize, ysize = picture.size\n",
      "    temp = picture.load()\n",
      "    for x in range(xsize):\n",
      "        for y in range(ysize):\n",
      "            r,g,b = temp[x,y]\n",
      "            if r+g+b >= threshold:\n",
      "                temp[x,y] = black\n",
      "            else:\n",
      "                temp[x,y] = white\n",
      "bwpic = Image.open(StringIO(response.content))\n",
      "monochrome(bwpic, 200+200+200)\n",
      "plt.imshow(bwpic)"
     ],
     "language": "python",
     "metadata": {},
     "outputs": [
      {
       "metadata": {},
       "output_type": "pyout",
       "prompt_number": 11,
       "text": [
        "<matplotlib.image.AxesImage at 0x1052a96d0>"
       ]
      },
      {
       "metadata": {},
       "output_type": "display_data",
       "png": "[encoded data removed]",
       "text": [
        "<matplotlib.figure.Figure at 0x1050679d0>"
       ]
      }
     ],
     "prompt_number": 11
    },
    {
     "cell_type": "code",
     "collapsed": false,
     "input": [
      "bwpic = Image.open(StringIO(response.content))\n",
      "monochrome(bwpic, 200+200+200)\n",
      "print elapsed(count,bwpic,fill)\n",
      "\n",
      "bwpic = Image.open(StringIO(response.content))\n",
      "monochrome(bwpic, 200+200+200)\n",
      "print elapsed(count,bwpic,fastfill)\n",
      "\n",
      "bwpic = Image.open(StringIO(response.content))\n",
      "monochrome(bwpic, 200+200+200)\n",
      "print elapsed(count,bwpic,fillrec)"
     ],
     "language": "python",
     "metadata": {},
     "outputs": [
      {
       "output_type": "stream",
       "stream": "stdout",
       "text": [
        "(0.19595599174499512, 72)\n",
        "(0.2084510326385498, 72)"
       ]
      },
      {
       "output_type": "stream",
       "stream": "stdout",
       "text": [
        "\n",
        "(0.18814587593078613, 72)"
       ]
      },
      {
       "output_type": "stream",
       "stream": "stdout",
       "text": [
        "\n"
       ]
      }
     ],
     "prompt_number": 12
    },
    {
     "cell_type": "markdown",
     "metadata": {},
     "source": [
      "3. Use the fastest algorithm from question 2 to count the stars above a threshold in all of the images listed at the top of the page. How does the count for each image change if you lower the threshold from 600 to 500? Comment on any changes to the count. Why do they happen?"
     ]
    },
    {
     "cell_type": "code",
     "collapsed": false,
     "input": [
      "response = requests.get(\"http://imgsrc.hubblesite.org/hu/db/images/hs-1995-32-c-full_jpg.jpg\")\n",
      "bwpic = Image.open(StringIO(response.content))\n",
      "monochrome(bwpic, 600)\n",
      "plt.imshow(bwpic)"
     ],
     "language": "python",
     "metadata": {},
     "outputs": [
      {
       "metadata": {},
       "output_type": "pyout",
       "prompt_number": 13,
       "text": [
        "<matplotlib.image.AxesImage at 0x105c7c350>"
       ]
      },
      {
       "metadata": {},
       "output_type": "display_data",
       "png": "[encoded data removed]",
       "text": [
        "<matplotlib.figure.Figure at 0x104dde9d0>"
       ]
      }
     ],
     "prompt_number": 13
    },
    {
     "cell_type": "code",
     "collapsed": false,
     "input": [
      "print elapsed(count,bwpic,fillrec)"
     ],
     "language": "python",
     "metadata": {},
     "outputs": [
      {
       "output_type": "stream",
       "stream": "stdout",
       "text": [
        "(0.09054183959960938, 82)\n"
       ]
      }
     ],
     "prompt_number": 14
    },
    {
     "cell_type": "code",
     "collapsed": false,
     "input": [
      "response = requests.get(\"http://imgsrc.hubblesite.org/hu/db/images/hs-1995-32-c-full_jpg.jpg\")\n",
      "bwpic = Image.open(StringIO(response.content))\n",
      "monochrome(bwpic, 500)\n",
      "plt.imshow(bwpic)\n"
     ],
     "language": "python",
     "metadata": {},
     "outputs": [
      {
       "metadata": {},
       "output_type": "pyout",
       "prompt_number": 15,
       "text": [
        "<matplotlib.image.AxesImage at 0x105d85050>"
       ]
      },
      {
       "metadata": {},
       "output_type": "display_data",
       "png": "[encoded data removed]",
       "text": [
        "<matplotlib.figure.Figure at 0x1004805d0>"
       ]
      }
     ],
     "prompt_number": 15
    },
    {
     "cell_type": "code",
     "collapsed": false,
     "input": [
      "print elapsed(count,bwpic,fillrec)"
     ],
     "language": "python",
     "metadata": {},
     "outputs": [
      {
       "output_type": "stream",
       "stream": "stdout",
       "text": [
        "(0.09793519973754883, 117)\n"
       ]
      }
     ],
     "prompt_number": 16
    },
    {
     "cell_type": "markdown",
     "metadata": {},
     "source": [
      "When we lower the treshold the program counts more stars. This makes sense because when we lower the treshold we are lowering the criteria for a pixel to be considered a star. Therefore, we will get more black pixels than before."
     ]
    },
    {
     "cell_type": "markdown",
     "metadata": {},
     "source": [
      "4. Write a variation on your count function to keep track of the pixels in a given blob and use the brightest pixel in the blob as the \"location\" of the star. Use the data I/O skills we learned to write out a text (not binary) file containing\n",
      "\n",
      "a header which includes\n",
      "\n",
      "the link to the image\n",
      "\n",
      "the threshold value used in the conversion to monochrome\n",
      "\n",
      "the algorithm used to count its stars\n",
      "\n",
      "how fast it processed the image\n",
      "\n",
      "how many stars were found\n",
      "\n",
      "a description of the data in the subsequent columns\n",
      "\n",
      "a list of the star data organized in three columns and formatted for easy reading as follows:\n",
      "\n",
      "location (x,y in pixel units)\n",
      "\n",
      "maximum brightness value for the star\n",
      "\n",
      "Apply your function to the six images at the top of the page."
     ]
    },
    {
     "cell_type": "code",
     "collapsed": false,
     "input": [
      "link = \"http://imgsrc.hubblesite.org/hu/db/images/hs-1995-32-c-full_jpg.jpg\"\n",
      "threshold = 600\n",
      "response = requests.get(link)\n",
      "pic = Image.open(StringIO(response.content))\n",
      "bwpic = Image.open(StringIO(response.content))\n",
      "monochrome(bwpic, threshold)\n",
      "\n",
      "from time import time\n",
      "def elapsed(func, picture):\n",
      "    \"\"\"takes a function and a picture as arguments, \n",
      "    applies the function to the picture, and returns \n",
      "    the elapsed time along with whatever the function \n",
      "    itself returned.\"\"\"    \n",
      "    start = time()\n",
      "    result = func(picture)\n",
      "    return time() - start\n",
      "\n",
      "def fillrec(picture, xsize, ysize, x, y, pixels):\n",
      "    \"\"\"each call to 'fillrec' takes care of one pixel, \n",
      "    then calls 'fillrec' again to take care of the neighbors\"\"\"\n",
      "    if picture[x,y] != BLACK:\n",
      "        return\n",
      "    picture[x,y] = RED\n",
      "    pixels.append([x,y])\n",
      "    if x > 0:\n",
      "        fillrec(picture, xsize, ysize, x-1, y, pixels)\n",
      "    if x < (xsize-1):\n",
      "        fillrec(picture, xsize, ysize, x+1, y, pixels)\n",
      "    if y > 0:\n",
      "        fillrec(picture, xsize, ysize, x, y-1, pixels)\n",
      "    if y < (ysize-1):\n",
      "        fillrec(picture, xsize, ysize, x, y+1, pixels)\n",
      "\n",
      "BLACK = (0,0,0)\n",
      "RED = (255,0,0)\n",
      "stars = []\n",
      "def new_count(picture,filltype):\n",
      "    \"\"\"scan the image top to bottom and left to right using a nested loop.\n",
      "    when black pixel is found, increment the count, then call the fill\n",
      "    function to fill in all the pixels connected to that one.\"\"\"\n",
      "    \n",
      "    xsize, ysize = picture.size\n",
      "    temp = picture.load()\n",
      "    result = 0\n",
      "    for x in range (xsize):\n",
      "        for y in range(ysize):\n",
      "            if temp[x,y]==BLACK:\n",
      "                result += 1\n",
      "                pixels = []\n",
      "                filltype(temp, xsize, ysize, x, y, pixels)\n",
      "                bx, by, max_val = 0, 0, 0\n",
      "                new_temp = pic.load()\n",
      "                for pixel in pixels:\n",
      "                    r,g,b = new_temp[pixel[0],pixel[1]]\n",
      "                    if r+g+b > max_val:\n",
      "                        bx, by, max_val = pixel[0],pixel[1],r+g+b\n",
      "                stars.append([bx, by, max_val])\n",
      "    \n",
      "    \n",
      "    stars_array = np.array(stars)   \n",
      "    np.savetxt('stars_data.dat', stars_array, fmt='%3i', header=\"Image Link:\" + link + \" \\n Treshold Value:\" + str(threshold) + \"\\n Algorithm: Fillrec  \\n Time:    \\n Star Count:\" + str(result) + \"\\n Description of data: First column represents x-value, second column represents y-value, and third column represents max brightness of the star\")\n",
      "    !cat stars_data.dat\n",
      "    \n",
      "\n",
      "\n",
      "    \n",
      "\n",
      "\n",
      "new_count(bwpic,fillrec)\n",
      "\n",
      "\n"
     ],
     "language": "python",
     "metadata": {},
     "outputs": [
      {
       "output_type": "stream",
       "stream": "stdout",
       "text": [
        "# Image Link:http://imgsrc.hubblesite.org/hu/db/images/hs-1995-32-c-full_jpg.jpg \r\n",
        "#  Treshold Value:600\r\n",
        "#  Algorithm: Fillrec  \r\n",
        "#  Time:    \r\n",
        "#  Star Count:82\r\n",
        "#  Description of data: First column represents x-value, second column represents y-value, and third column represents max brightness of the star\r\n",
        "  0  14 694\r\n",
        "  0  20 741\r\n",
        "  2 286 764\r\n",
        "  3 350 764\r\n",
        "  5 423 755\r\n",
        "  6 364 758\r\n",
        "  5 344 646\r\n",
        " 11  59 761\r\n",
        " 22 393 764\r\n",
        " 13 389 616\r\n",
        " 16 236 612\r\n",
        " 17  59 615\r\n",
        " 18 387 620\r\n",
        " 30 418 763\r\n",
        " 37 447 753\r\n",
        " 46  27 763\r\n",
        " 47 232 700\r\n",
        " 47 277 620\r\n",
        " 51 441 762\r\n",
        " 48 355 687\r\n",
        " 58 403 762\r\n",
        " 78  96 765\r\n",
        " 69  29 607\r\n",
        " 69 102 640\r\n",
        " 69 119 613\r\n",
        " 75 350 760\r\n",
        " 93 205 630\r\n",
        "102 181 601\r\n",
        "110 324 765\r\n",
        "109   6 741\r\n",
        "108  57 610\r\n",
        "118 320 600\r\n",
        "128 350 764\r\n",
        "136 408 736\r\n",
        "137 361 605\r\n",
        "146   0 727\r\n",
        "153   0 624\r\n",
        "173  43 744\r\n",
        "174 388 603\r\n",
        "182  35 762\r\n",
        "193 202 764\r\n",
        "181 257 764\r\n",
        "183 118 764\r\n",
        "187 343 760\r\n",
        "189 364 651\r\n",
        "197 186 600\r\n",
        "229 456 741\r\n",
        "234 300 763\r\n",
        "240 127 762\r\n",
        "239 313 623\r\n",
        "238 372 620\r\n",
        "239 311 610\r\n",
        "243 365 760\r\n",
        "273 323 765\r\n",
        "277  16 765\r",
        "\r\n",
        "281  47 763\r\n",
        "272 315 605\r\n",
        "278 282 654\r\n",
        "279 315 633\r\n",
        "284 337 755\r\n",
        "288  21 615\r\n",
        "291 144 751\r\n",
        "303 147 764\r\n",
        "312  98 761\r\n",
        "309 200 632\r\n",
        "312 150 604\r\n",
        "318 427 761\r\n",
        "330 370 763\r\n",
        "330 106 717\r\n",
        "336 368 658\r\n",
        "349 387 763\r\n",
        "354 143 762\r\n",
        "353 383 604\r\n",
        "361   8 764\r\n",
        "363 211 688\r\n",
        "363 444 607\r\n",
        "368 433 765\r\n",
        "369   7 646\r\n",
        "373 232 702\r\n",
        "380 218 722\r\n",
        "382  71 760\r\n",
        "404 446 608\r\n"
       ]
      }
     ],
     "prompt_number": 17
    },
    {
     "cell_type": "code",
     "collapsed": false,
     "input": [],
     "language": "python",
     "metadata": {},
     "outputs": [],
     "prompt_number": 17
    }
   ],
   "metadata": {}
  }
 ]
}