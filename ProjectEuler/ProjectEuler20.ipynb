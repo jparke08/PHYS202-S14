{
 "metadata": {
  "name": "",
  "signature": "sha256:f871559f0e655896359de03cc2d61c5c857725907ed963defb7fce8ddcd346a4"
 },
 "nbformat": 3,
 "nbformat_minor": 0,
 "worksheets": [
  {
   "cells": [
    {
     "cell_type": "heading",
     "level": 1,
     "metadata": {},
     "source": [
      "Factorial Digit Sum"
     ]
    },
    {
     "cell_type": "markdown",
     "metadata": {},
     "source": [
      "n! means n  (n  1)  ...  3  2  1\n",
      "\n",
      "For example, 10! = 10  9  ...  3  2  1 = 3628800,\n",
      "and the sum of the digits in the number 10! is 3 + 6 + 2 + 8 + 8 + 0 + 0 = 27.\n",
      "\n",
      "Find the sum of the digits in the number 100!"
     ]
    },
    {
     "cell_type": "code",
     "collapsed": false,
     "input": [
      "def factorial_digit_sum(n):\n",
      "    #first find n!\n",
      "    n_factorial = n\n",
      "    for i in range(1,n):\n",
      "        n_factorial = n_factorial * i\n",
      "    \n",
      "    #now find sum of n_factorial's digits\n",
      "    factorial_sum = 0\n",
      "    for digit in str(n_factorial):\n",
      "        factorial_sum += int(digit)\n",
      "    return factorial_sum\n",
      "        "
     ],
     "language": "python",
     "metadata": {},
     "outputs": [],
     "prompt_number": 1
    },
    {
     "cell_type": "code",
     "collapsed": false,
     "input": [
      "print \"The sum of 10! is:\",factorial_digit_sum(10)"
     ],
     "language": "python",
     "metadata": {},
     "outputs": [
      {
       "output_type": "stream",
       "stream": "stdout",
       "text": [
        "The sum of 10! is: 27\n"
       ]
      }
     ],
     "prompt_number": 2
    },
    {
     "cell_type": "code",
     "collapsed": false,
     "input": [
      "print \"The sum of 100! is:\",factorial_digit_sum(100)"
     ],
     "language": "python",
     "metadata": {},
     "outputs": [
      {
       "output_type": "stream",
       "stream": "stdout",
       "text": [
        "The sum of 100! is: 648\n"
       ]
      }
     ],
     "prompt_number": 3
    },
    {
     "cell_type": "code",
     "collapsed": false,
     "input": [],
     "language": "python",
     "metadata": {},
     "outputs": []
    }
   ],
   "metadata": {}
  }
 ]
}