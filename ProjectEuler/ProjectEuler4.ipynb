{
 "metadata": {
  "name": "",
  "signature": "sha256:31f6cfe32b0bbc432ce1a3f42ef735cb16a8ad2db04bd2ad02903ddf6e5e44b6"
 },
 "nbformat": 3,
 "nbformat_minor": 0,
 "worksheets": [
  {
   "cells": [
    {
     "cell_type": "heading",
     "level": 1,
     "metadata": {},
     "source": [
      "Largest Palindrome Product"
     ]
    },
    {
     "cell_type": "markdown",
     "metadata": {},
     "source": [
      "A palindromic number reads the same both ways. The largest palindrome made from the product of two 2-digit numbers is 9009 = 91x99.\n",
      "\n",
      "Find the largest palindrome made from the product of two 3-digit numbers."
     ]
    },
    {
     "cell_type": "code",
     "collapsed": false,
     "input": [
      "import numpy as np"
     ],
     "language": "python",
     "metadata": {},
     "outputs": [],
     "prompt_number": 18
    },
    {
     "cell_type": "code",
     "collapsed": false,
     "input": [
      "palindromes = []\n",
      "for i in range(10,100):\n",
      "    for j in range(10,100):\n",
      "        if str(i*j)[::-1] == str(i*j):\n",
      "            palindromes.append(i*j)\n",
      "\n",
      "palindromes = np.array(palindromes)            \n",
      "print \"The largest palindrome made from the product of two 2-digit is:\",palindromes.max()"
     ],
     "language": "python",
     "metadata": {},
     "outputs": [
      {
       "output_type": "stream",
       "stream": "stdout",
       "text": [
        "The largest palindrome made from the product of two 2-digit is: 9009\n"
       ]
      }
     ],
     "prompt_number": 21
    },
    {
     "cell_type": "code",
     "collapsed": false,
     "input": [
      "palindromes = []\n",
      "for i in range(100,1000):\n",
      "    for j in range(100,1000):\n",
      "        if str(i*j)[::-1] == str(i*j):\n",
      "            palindromes.append(i*j)\n",
      "\n",
      "palindromes = np.array(palindromes)            \n",
      "print \"The largest palindrome made from the product of two 2-digit is:\",palindromes.max()"
     ],
     "language": "python",
     "metadata": {},
     "outputs": [
      {
       "output_type": "stream",
       "stream": "stdout",
       "text": [
        "The largest palindrome made from the product of two 2-digit is: 906609\n"
       ]
      }
     ],
     "prompt_number": 22
    },
    {
     "cell_type": "code",
     "collapsed": false,
     "input": [],
     "language": "python",
     "metadata": {},
     "outputs": []
    }
   ],
   "metadata": {}
  }
 ]
}