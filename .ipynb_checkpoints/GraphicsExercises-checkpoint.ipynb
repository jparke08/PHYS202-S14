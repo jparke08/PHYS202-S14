{
 "metadata": {
  "name": "",
  "signature": "sha256:d7d9e068a35bb2b61bcc9a91fd4b6b3c29b6f777552e009f43ffd6f6589b3377"
 },
 "nbformat": 3,
 "nbformat_minor": 0,
 "worksheets": [
  {
   "cells": [
    {
     "cell_type": "heading",
     "level": 1,
     "metadata": {},
     "source": [
      "Graphics Exercises"
     ]
    },
    {
     "cell_type": "code",
     "collapsed": false,
     "input": [
      "%pylab inline\n",
      "from mpl_toolkits.mplot3d.axes3d import Axes3D\n",
      "from matplotlib import cm\n",
      "import numpy as np"
     ],
     "language": "python",
     "metadata": {},
     "outputs": [
      {
       "output_type": "stream",
       "stream": "stdout",
       "text": [
        "Populating the interactive namespace from numpy and matplotlib\n"
       ]
      }
     ],
     "prompt_number": 3
    },
    {
     "cell_type": "markdown",
     "metadata": {},
     "source": [
      "1. Have a look at the Matplotlib gallery, find a cool looking figure, use the %loadpy magic we used before to copy the code into the box below, and modify it. Note that some of the examples might require packages that are not installed on your machine (in particular those that make maps) - if this is the case, pick another example for the purposes of this exercise.\n",
      "Type %loadpy and then the URL of the py file containing the code, and it will automatically copy it into a cell below. Run the cell with the code to see the figure."
     ]
    },
    {
     "cell_type": "code",
     "collapsed": false,
     "input": [
      "%loadpy http://matplotlib.org/mpl_examples/ticks_and_spines/spines_demo_bounds.py"
     ],
     "language": "python",
     "metadata": {},
     "outputs": [],
     "prompt_number": 4
    },
    {
     "cell_type": "code",
     "collapsed": false,
     "input": [
      "\"\"\"\n",
      "Demo of spines using custom bounds to limit the extent of the spine.\n",
      "\"\"\"\n",
      "import numpy as np\n",
      "import matplotlib.pyplot as plt\n",
      "\n",
      "\n",
      "x = np.linspace(0, 2*np.pi, 50)\n",
      "y = np.sin(x)\n",
      "y2 = y + 0.1 * np.random.normal(size=x.shape)\n",
      "\n",
      "fig, ax = plt.subplots()\n",
      "ax.plot(x, y, 'k--')\n",
      "ax.plot(x, y2, 'ro')\n",
      "\n",
      "# set ticks and tick labels\n",
      "ax.set_xlim((0, 2*np.pi))\n",
      "ax.set_xticks([0, np.pi, 2*np.pi])\n",
      "ax.set_xticklabels(['0', '$\\pi$','2$\\pi$'])\n",
      "ax.set_ylim((-1.5, 1.5))\n",
      "ax.set_yticks([-1, 0, 1])\n",
      "\n",
      "# Only draw spine between the y-ticks\n",
      "ax.spines['left'].set_bounds(-1, 1)\n",
      "# Hide the right and top spines\n",
      "ax.spines['right'].set_visible(False)\n",
      "ax.spines['top'].set_visible(False)\n",
      "# Only show ticks on the left and bottom spines\n",
      "ax.yaxis.set_ticks_position('left')\n",
      "ax.xaxis.set_ticks_position('bottom')\n",
      "\n",
      "plt.show()\n"
     ],
     "language": "python",
     "metadata": {},
     "outputs": []
    },
    {
     "cell_type": "code",
     "collapsed": false,
     "input": [
      "\"\"\"\n",
      "Demo of spines using custom bounds to limit the extent of the spine.\n",
      "\"\"\"\n",
      "import numpy as np\n",
      "import matplotlib.pyplot as plt\n",
      "\n",
      "\n",
      "x = np.linspace(0, 2*np.pi, 50)\n",
      "y = np.sin(x)\n",
      "y2 = y + 0.1 * np.random.normal(size=x.shape)\n",
      "\n",
      "fig, ax = plt.subplots()\n",
      "ax.plot(x, y, 'k--', markersize = 10)\n",
      "ax.plot(x, y2, 'ro', markersize = 2)\n",
      "\n",
      "# set ticks and tick labels\n",
      "ax.set_xlim((0, 2*np.pi))\n",
      "ax.set_xticks([0, np.pi, 2*np.pi])\n",
      "ax.set_xticklabels(['0', '$\\pi$','2$\\pi$'])\n",
      "ax.set_ylim((-1.5, 1.5))\n",
      "ax.set_yticks([-1, 0, 1])\n",
      "\n",
      "# Only draw spine between the y-ticks\n",
      "ax.spines['left'].set_bounds(-1.25, 1)\n",
      "# Hide the right and top spines\n",
      "ax.spines['right'].set_visible(False)\n",
      "ax.spines['top'].set_visible(False)\n",
      "# Only show ticks on the left and bottom spines\n",
      "ax.tick_params(direction='out', top=False, right=False)\n",
      "\n",
      "plt.show()\n"
     ],
     "language": "python",
     "metadata": {},
     "outputs": [
      {
       "metadata": {},
       "output_type": "display_data",
       "png": "[encoded data removed]",
       "text": [
        "<matplotlib.figure.Figure at 0x10500c490>"
       ]
      }
     ],
     "prompt_number": 5
    },
    {
     "cell_type": "markdown",
     "metadata": {},
     "source": [
      "2. Download the linked file called sunspots.txt, which contains the observed number of sunspots on the Sun for each month since January 1749. The file contains two columns of numbers, the first being the month and the second being the sunspot number. (See note below\u2217 for how to download it.)\n",
      "\n",
      "(a) Write some code that reads in the data and makes a graph of sunspots as a function of time. Format the x-axis labels to show every 25th year starting with 1750 e.g. (1750, 1775, 1800, 1825, 1850, etc.), instead of sunspot number. Be sure to think about how to make this graph publication quality, i.e. it should have labels, a legend, and customized (i.e. NOT default) color and data representation choices."
     ]
    },
    {
     "cell_type": "code",
     "collapsed": false,
     "input": [
      "x, y = np.loadtxt(\"/Users/joshuaparker/sunspots.txt\",unpack=True, usecols=[0,1])\n",
      "print x,y"
     ],
     "language": "python",
     "metadata": {},
     "outputs": [
      {
       "output_type": "stream",
       "stream": "stdout",
       "text": [
        "[  0.00000000e+00   1.00000000e+00   2.00000000e+00 ...,   3.14000000e+03\n",
        "   3.14100000e+03   3.14200000e+03] [ 58.   62.6  70.  ...,  25.2  23.5  21.6]\n"
       ]
      }
     ],
     "prompt_number": 27
    },
    {
     "cell_type": "code",
     "collapsed": false,
     "input": [
      "np.loadtxt"
     ],
     "language": "python",
     "metadata": {},
     "outputs": [],
     "prompt_number": 26
    },
    {
     "cell_type": "code",
     "collapsed": false,
     "input": [],
     "language": "python",
     "metadata": {},
     "outputs": []
    }
   ],
   "metadata": {}
  }
 ]
}