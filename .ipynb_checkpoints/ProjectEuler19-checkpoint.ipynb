{
 "metadata": {
  "name": "",
  "signature": "sha256:9ad1c8df9cf0096cd8718097f078ae27bb246dc8b4033b5f04322bcfb0519c61"
 },
 "nbformat": 3,
 "nbformat_minor": 0,
 "worksheets": [
  {
   "cells": [
    {
     "cell_type": "heading",
     "level": 1,
     "metadata": {},
     "source": [
      "Counting Sundays"
     ]
    },
    {
     "cell_type": "markdown",
     "metadata": {},
     "source": [
      "You are given the following information, but you may prefer to do some research for yourself.\n",
      "\n",
      "1 Jan 1900 was a Monday.\n",
      "\n",
      "Thirty days has September,\n",
      "\n",
      "April, June and November.\n",
      "\n",
      "All the rest have thirty-one,\n",
      "\n",
      "Saving February alone,\n",
      "\n",
      "Which has twenty-eight, rain or shine.\n",
      "\n",
      "And on leap years, twenty-nine.\n",
      "\n",
      "A leap year occurs on any year evenly divisible by 4, but not on a century unless it is divisible by 400.\n",
      "\n",
      "How many Sundays fell on the first of the month during the twentieth century (1 Jan 1901 to 31 Dec 2000)?"
     ]
    },
    {
     "cell_type": "code",
     "collapsed": false,
     "input": [
      "#months = [January,February,'March','April','May','June','July','August','September','October','November','December']\n",
      "months = [31, 28, 31, 30, 31, 30, 31, 31, 30, 31, 30, 31]\n"
     ],
     "language": "python",
     "metadata": {},
     "outputs": [],
     "prompt_number": 31
    },
    {
     "cell_type": "code",
     "collapsed": false,
     "input": [
      "years = range(1900,2001)\n",
      "first_day = 0\n",
      "count = 0\n",
      "for year in years:\n",
      "    for month in months:\n",
      "        if month == 28 and year%100 != 0 and year%4 == 0:\n",
      "            month += 1\n",
      "        if month == 28 and year%100 == 0 and year%400 == 0:\n",
      "            month += 1\n",
      "        if year > 1900 and first_day == 6:\n",
      "            count += 1\n",
      "        leftovers = month % 7\n",
      "        first_day += leftovers\n",
      "        if first_day > 6:\n",
      "            first_day -= 7\n",
      "    \n",
      "print \"There were %d Sundays on the first of the month in the 20th century.\"%(count)   "
     ],
     "language": "python",
     "metadata": {},
     "outputs": [
      {
       "output_type": "stream",
       "stream": "stdout",
       "text": [
        "There were 171 Sundays on the first of the month in the 20th century.\n"
       ]
      }
     ],
     "prompt_number": 32
    },
    {
     "cell_type": "code",
     "collapsed": false,
     "input": [],
     "language": "python",
     "metadata": {},
     "outputs": []
    }
   ],
   "metadata": {}
  }
 ]
}