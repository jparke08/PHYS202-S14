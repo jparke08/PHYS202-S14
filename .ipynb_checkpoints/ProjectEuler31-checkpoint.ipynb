{
 "metadata": {
  "name": "",
  "signature": "sha256:97a622369c850f9ec12d873ce3de557e52611e20304b3b05aa2690ae8a091dae"
 },
 "nbformat": 3,
 "nbformat_minor": 0,
 "worksheets": [
  {
   "cells": [
    {
     "cell_type": "heading",
     "level": 4,
     "metadata": {},
     "source": [
      "Coin Sums"
     ]
    },
    {
     "cell_type": "markdown",
     "metadata": {},
     "source": [
      "In England the currency is made up of pound, \u00a3, and pence, p, and there are eight coins in general circulation:\n",
      "\n",
      "1p, 2p, 5p, 10p, 20p, 50p, \u00a31 (100p) and \u00a32 (200p).\n",
      "It is possible to make \u00a32 in the following way:\n",
      "\n",
      "1x\u00a31 + 1x50p + 2x20p + 1x5p + 1x2p + 3x1p\n",
      "How many different ways can \u00a32 be made using any number of coins?"
     ]
    },
    {
     "cell_type": "markdown",
     "metadata": {},
     "source": [
      "Comment: This code works, but takes a very long time to execute. "
     ]
    },
    {
     "cell_type": "code",
     "collapsed": false,
     "input": [
      "r, t, u, v, w, x, y, z = 200, 100, 50, 20, 10, 5, 2, 1\n",
      "count = 0\n",
      "for a in range(2):\n",
      "    for b in range(3-a):\n",
      "        for c in range(5-a-b):\n",
      "            for d in range(11-a-b-c):\n",
      "                for e in range(21-a-b-c-d):\n",
      "                    for f in range(41-a-b-c-d-e):\n",
      "                        for g in range(101-a-b-c-d-e-f):\n",
      "                            for h in range(201-a-b-c-d-e-f-g):\n",
      "                                if a*r + b*t + c*u + d*v + e*w + f*x + g*y + h*z == 200:\n",
      "                                    count += 1\n",
      "print count\n",
      "            "
     ],
     "language": "python",
     "metadata": {},
     "outputs": [
      {
       "output_type": "stream",
       "stream": "stdout",
       "text": [
        "73682\n"
       ]
      }
     ],
     "prompt_number": 5
    },
    {
     "cell_type": "markdown",
     "metadata": {},
     "source": [
      "Ignore all code below"
     ]
    },
    {
     "cell_type": "code",
     "collapsed": false,
     "input": [
      "t, u, v, w, x, y, z = 100, 50, 20, 10, 5, 2, 1\n",
      "a, b, c, d, e, f, g = 0, 0, 0, 0, 0, 0, 0\n",
      "coins = [a, b, c, d, e, f, g]\n",
      "total_coins = a + b + c + d + e + f + g\n",
      "total = a*t + b*u + c*v + d*w + e*x + f*y + z*g\n",
      "count = 0\n",
      "\n",
      "while total_coins < 200:\n",
      "    for coin in coins:\n",
      "        while total < 200:\n",
      "           coin += 1 \n",
      "        if total == 200:\n",
      "            count += 1\n",
      "        coin -= 1\n",
      "            \n",
      "        \n"
     ],
     "language": "python",
     "metadata": {},
     "outputs": [
      {
       "ename": "KeyboardInterrupt",
       "evalue": "",
       "output_type": "pyerr",
       "traceback": [
        "\u001b[0;31m---------------------------------------------------------------------------\u001b[0m\n\u001b[0;31mKeyboardInterrupt\u001b[0m                         Traceback (most recent call last)",
        "\u001b[0;32m<ipython-input-3-f8e32b8f6989>\u001b[0m in \u001b[0;36m<module>\u001b[0;34m()\u001b[0m\n\u001b[1;32m      9\u001b[0m     \u001b[0;32mfor\u001b[0m \u001b[0mcoin\u001b[0m \u001b[0;32min\u001b[0m \u001b[0mcoins\u001b[0m\u001b[0;34m:\u001b[0m\u001b[0;34m\u001b[0m\u001b[0m\n\u001b[1;32m     10\u001b[0m         \u001b[0;32mwhile\u001b[0m \u001b[0mtotal\u001b[0m \u001b[0;34m<\u001b[0m \u001b[0;36m200\u001b[0m\u001b[0;34m:\u001b[0m\u001b[0;34m\u001b[0m\u001b[0m\n\u001b[0;32m---> 11\u001b[0;31m            \u001b[0mcoin\u001b[0m \u001b[0;34m+=\u001b[0m \u001b[0;36m1\u001b[0m\u001b[0;34m\u001b[0m\u001b[0m\n\u001b[0m\u001b[1;32m     12\u001b[0m         \u001b[0;32mif\u001b[0m \u001b[0mtotal\u001b[0m \u001b[0;34m==\u001b[0m \u001b[0;36m200\u001b[0m\u001b[0;34m:\u001b[0m\u001b[0;34m\u001b[0m\u001b[0m\n\u001b[1;32m     13\u001b[0m             \u001b[0mcount\u001b[0m \u001b[0;34m+=\u001b[0m \u001b[0;36m1\u001b[0m\u001b[0;34m\u001b[0m\u001b[0m\n",
        "\u001b[0;31mKeyboardInterrupt\u001b[0m: "
       ]
      }
     ],
     "prompt_number": 3
    },
    {
     "cell_type": "code",
     "collapsed": false,
     "input": [],
     "language": "python",
     "metadata": {},
     "outputs": [],
     "prompt_number": 12
    },
    {
     "cell_type": "code",
     "collapsed": false,
     "input": [
      "\n"
     ],
     "language": "python",
     "metadata": {},
     "outputs": [],
     "prompt_number": 12
    },
    {
     "cell_type": "code",
     "collapsed": false,
     "input": [],
     "language": "python",
     "metadata": {},
     "outputs": [],
     "prompt_number": 12
    }
   ],
   "metadata": {}
  }
 ]
}