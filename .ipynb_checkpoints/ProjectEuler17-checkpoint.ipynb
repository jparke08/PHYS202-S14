{
 "metadata": {
  "name": "",
  "signature": "sha256:19173fc5bbad8e6c8cd6dc326c9f019229b85b207d5b535102f97f85523a0d3e"
 },
 "nbformat": 3,
 "nbformat_minor": 0,
 "worksheets": [
  {
   "cells": [
    {
     "cell_type": "heading",
     "level": 1,
     "metadata": {},
     "source": [
      "Number Letter Counts"
     ]
    },
    {
     "cell_type": "markdown",
     "metadata": {},
     "source": [
      "If the numbers 1 to 5 are written out in words: one, two, three, four, five, then there are 3 + 3 + 5 + 4 + 4 = 19 letters used in total.\n",
      "\n",
      "If all the numbers from 1 to 1000 (one thousand) inclusive were written out in words, how many letters would be used?\n",
      "\n",
      "\n",
      "NOTE: Do not count spaces or hyphens. For example, 342 (three hundred and forty-two) contains 23 letters and 115 (one hundred and fifteen) contains 20 letters. The use of \"and\" when writing out numbers is in compliance with British usage."
     ]
    },
    {
     "cell_type": "code",
     "collapsed": false,
     "input": [
      "import numpy as np"
     ],
     "language": "python",
     "metadata": {},
     "outputs": [],
     "prompt_number": 3
    },
    {
     "cell_type": "code",
     "collapsed": false,
     "input": [
      "arr = np.zeros(1000,dtype = int)\n",
      "first_nineteen = [0,3,3,5,4,4,3,5,5,4,3,6,6,8,8,7,7,9,8,8]\n",
      "tys = [6,6,5,5,5,7,6,6] #values for twenty,thirty,forty...\n",
      "\n",
      "for i in range(1,20):             \n",
      "    arr[i-1] = first_nineteen[i]\n",
      "\n",
      "term = 19\n",
      "for j in range(8):\n",
      "    for k in range(10):\n",
      "        arr[term] = tys[j] + first_nineteen[k]\n",
      "        term += 1\n",
      "for j in range(1,10):\n",
      "    for k in range(100):\n",
      "        if k == 0:\n",
      "            arr[term] = first_nineteen[j] + 7\n",
      "            term += 1\n",
      "        else:\n",
      "            arr[term] = first_nineteen[j] + 10 + arr[k-1]\n",
      "            term += 1\n",
      "\n",
      "            \n",
      "arr[999] = 11\n",
      "\n",
      "\n",
      "    \n",
      "\n",
      "    "
     ],
     "language": "python",
     "metadata": {},
     "outputs": [],
     "prompt_number": 40
    },
    {
     "cell_type": "code",
     "collapsed": false,
     "input": [
      "#test case for 342 and 115\n",
      "print arr[341]\n",
      "print arr[114]"
     ],
     "language": "python",
     "metadata": {},
     "outputs": [
      {
       "output_type": "stream",
       "stream": "stdout",
       "text": [
        "23\n",
        "20\n"
       ]
      }
     ],
     "prompt_number": 41
    },
    {
     "cell_type": "code",
     "collapsed": false,
     "input": [
      "def number_letter_counts(number): #note: number can't be > 1000\n",
      "    arr_new = arr[:number]\n",
      "    answer = arr_new.sum()\n",
      "    print \"If all the numbers from 1 to %d were written out in words the total amount of letters used would be %d\" %(number,answer) "
     ],
     "language": "python",
     "metadata": {},
     "outputs": [],
     "prompt_number": 42
    },
    {
     "cell_type": "code",
     "collapsed": false,
     "input": [
      "#test case for first five\n",
      "number_letter_counts(5)"
     ],
     "language": "python",
     "metadata": {},
     "outputs": [
      {
       "output_type": "stream",
       "stream": "stdout",
       "text": [
        "If all the numbers from 1 to 5 were written out in words the total amount of letters used would be 19\n"
       ]
      }
     ],
     "prompt_number": 43
    },
    {
     "cell_type": "code",
     "collapsed": false,
     "input": [
      "number_letter_counts(1000)"
     ],
     "language": "python",
     "metadata": {},
     "outputs": [
      {
       "output_type": "stream",
       "stream": "stdout",
       "text": [
        "If all the numbers from 1 to 1000 were written out in words the total amount of letters used would be 21124\n"
       ]
      }
     ],
     "prompt_number": 44
    },
    {
     "cell_type": "code",
     "collapsed": false,
     "input": [],
     "language": "python",
     "metadata": {},
     "outputs": []
    }
   ],
   "metadata": {}
  }
 ]
}