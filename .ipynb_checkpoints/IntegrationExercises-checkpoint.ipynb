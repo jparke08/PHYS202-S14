{
 "metadata": {
  "name": "",
  "signature": "sha256:507c722179790e7abaf987df45c9062db9a77f693a5ad4db429046ca435cabce"
 },
 "nbformat": 3,
 "nbformat_minor": 0,
 "worksheets": [
  {
   "cells": [
    {
     "cell_type": "heading",
     "level": 1,
     "metadata": {},
     "source": [
      "Integration Exercises"
     ]
    },
    {
     "cell_type": "code",
     "collapsed": false,
     "input": [
      "%pylab inline"
     ],
     "language": "python",
     "metadata": {},
     "outputs": [
      {
       "output_type": "stream",
       "stream": "stdout",
       "text": [
        "Populating the interactive namespace from numpy and matplotlib\n"
       ]
      }
     ],
     "prompt_number": 1
    },
    {
     "cell_type": "heading",
     "level": 3,
     "metadata": {},
     "source": [
      "Question 1"
     ]
    },
    {
     "cell_type": "markdown",
     "metadata": {},
     "source": [
      "\n",
      "(a) Write two functions trapz(func,a,b,N) and simps(func,a,b,N) to compute the integral of the function func over the variable x using the trapezoidal rule and Simpson's rule to a file called Integrators.py. Do not use the scipy.integrate built-in functions. Include docstrings with each function that describe what they do. Then import the module and use the functions to answer the following questions. To avoid namespace conflicts, import your module as myint and then call the functions from that namespace. i.e.\n",
      "    import integrators as myint\n",
      "    #...your code...here\n",
      "    I = myint.trapz(func,a,b,N)\n",
      "Also, be sure that you import any needed modules inside your Integrators.py file."
     ]
    },
    {
     "cell_type": "code",
     "collapsed": false,
     "input": [
      "%%file Integrators.py\n",
      "#%pylab inline\n",
      "import numpy as np\n",
      "def trapz(func,a,b,N):\n",
      "    \"\"\" Integrates a function from a to b with N \n",
      "    slices using trapezoidal rule\"\"\"\n",
      "    a = float(a)\n",
      "    b = float(b)\n",
      "    h = (b-a)/N\n",
      "\n",
      "    k = np.arange(1,N)\n",
      "    return h*(0.5*func(a) + 0.5*func(b) + func(a+k*h).sum())\n",
      "\n",
      "def simps(func,a,b,N):\n",
      "    \"\"\" Integrates a function from a to b with N\n",
      "    slices using Simpson's rule\"\"\"\n",
      "    a = float(a)\n",
      "    b = float(b)\n",
      "    h = (b-a)/N\n",
      "\n",
      "    k1 = np.arange(1,N/2+1)\n",
      "    k2 = np.arange(1,N/2)\n",
      "    return (1./3.)*h*(func(a) + func(b) + 4.*func(a+(2*k1-1)*h).sum() + 2.*func(a+2*k2*h).sum())"
     ],
     "language": "python",
     "metadata": {},
     "outputs": [
      {
       "output_type": "stream",
       "stream": "stdout",
       "text": [
        "Overwriting Integrators.py\n"
       ]
      }
     ],
     "prompt_number": 2
    },
    {
     "cell_type": "markdown",
     "metadata": {},
     "source": [
      "(b) Use your trapz and simps functions from part (a) to calculate the integral of x4\u22122x+1 from x = 0 to x = 2 with N = 10, N = 100, and N = 1000. Then compare your result to the known correct value of 4.4. What is the percent error in each case?"
     ]
    },
    {
     "cell_type": "code",
     "collapsed": false,
     "input": [
      "func = lambda x: x**4 - 2*x + 1\n",
      "import Integrators as myint\n",
      "\n",
      "trapz10 = myint.trapz(func,0,2,10)\n",
      "trapz100 = myint.trapz(func,0,2,100)\n",
      "trapz1000 = myint.trapz(func,0,2,1000)\n",
      "print trapz10,trapz100,trapz1000"
     ],
     "language": "python",
     "metadata": {},
     "outputs": [
      {
       "output_type": "stream",
       "stream": "stdout",
       "text": [
        "4.50656 4.401066656 4.40001066667\n"
       ]
      }
     ],
     "prompt_number": 4
    },
    {
     "cell_type": "code",
     "collapsed": false,
     "input": [
      "percentError10 = 100*abs(trapz10 - 4.4)/4.4\n",
      "percentError100 = 100*abs(trapz100 - 4.4)/4.4\n",
      "percentError1000 = 100*abs(trapz1000 - 4.4)/4.4\n",
      "\n",
      "print percentError10,percentError100,percentError1000\n"
     ],
     "language": "python",
     "metadata": {},
     "outputs": [
      {
       "output_type": "stream",
       "stream": "stdout",
       "text": [
        "2.42181818182 0.0242421818182 0.000242424218175\n"
       ]
      }
     ],
     "prompt_number": 6
    },
    {
     "cell_type": "code",
     "collapsed": false,
     "input": [
      "simps10 = myint.simps(func,0,2,10)\n",
      "simps100 = myint.simps(func,0,2,100)\n",
      "simps1000 = myint.simps(func,0,2,1000)\n",
      "print simps10,simps100,simps1000"
     ],
     "language": "python",
     "metadata": {},
     "outputs": [
      {
       "output_type": "stream",
       "stream": "stdout",
       "text": [
        "4.40042666667 4.40000004267 4.4\n"
       ]
      }
     ],
     "prompt_number": 7
    },
    {
     "cell_type": "code",
     "collapsed": false,
     "input": [
      "percentError10 = 100*abs(simps10 - 4.4)/4.4\n",
      "percentError100 = 100*abs(simps100 - 4.4)/4.4\n",
      "percentError1000 = 100*abs(simps1000 - 4.4)/4.4\n",
      "\n",
      "print percentError10,percentError100,percentError1000\n"
     ],
     "language": "python",
     "metadata": {},
     "outputs": [
      {
       "output_type": "stream",
       "stream": "stdout",
       "text": [
        "0.00969696969697 9.69696969187e-07 9.69729347327e-11\n"
       ]
      }
     ],
     "prompt_number": 8
    },
    {
     "cell_type": "heading",
     "level": 3,
     "metadata": {},
     "source": [
      "Question 2"
     ]
    },
    {
     "cell_type": "markdown",
     "metadata": {},
     "source": [
      "\n",
      "(a) Use scipy.integrate.cumtrapz to calculate E(x) for values of x from 0 to 3 in steps of 0.1. Print the result."
     ]
    },
    {
     "cell_type": "code",
     "collapsed": false,
     "input": [
      "import scipy.integrate as integrate\n",
      "\n"
     ],
     "language": "python",
     "metadata": {},
     "outputs": [],
     "prompt_number": 9
    },
    {
     "cell_type": "code",
     "collapsed": false,
     "input": [
      "x = np.arange(0,3.1,.1)\n",
      "print x\n",
      "y = np.exp(-(x**2))"
     ],
     "language": "python",
     "metadata": {},
     "outputs": [
      {
       "output_type": "stream",
       "stream": "stdout",
       "text": [
        "[ 0.   0.1  0.2  0.3  0.4  0.5  0.6  0.7  0.8  0.9  1.   1.1  1.2  1.3  1.4\n",
        "  1.5  1.6  1.7  1.8  1.9  2.   2.1  2.2  2.3  2.4  2.5  2.6  2.7  2.8  2.9\n",
        "  3. ]\n"
       ]
      }
     ],
     "prompt_number": 29
    },
    {
     "cell_type": "code",
     "collapsed": false,
     "input": [
      "E_x = integrate.cumtrapz(y,t,initial=0)\n",
      "print E_x"
     ],
     "language": "python",
     "metadata": {},
     "outputs": [
      {
       "output_type": "stream",
       "stream": "stdout",
       "text": [
        "[ 0.          0.09950249  0.19704446  0.29078049  0.37908424  0.46063146\n",
        "  0.53445532  0.59997046  0.6569664   0.70557392  0.7462108   0.77951463\n",
        "  0.80627088  0.82734325  0.84361215  0.85592503  0.86506023  0.87170427\n",
        "  0.87644128  0.87975207  0.88202044  0.88354398  0.88454709  0.88519453\n",
        "  0.88560418  0.88585826  0.88601274  0.88610482  0.88615862  0.88618943\n",
        "  0.88620673]\n"
       ]
      }
     ],
     "prompt_number": 31
    },
    {
     "cell_type": "markdown",
     "metadata": {},
     "source": [
      "\n",
      "(b) Plot the integrand as a function of t and E(x) as a function of x (both ranging from 0 to 3) on the same graph."
     ]
    },
    {
     "cell_type": "code",
     "collapsed": false,
     "input": [
      "import matplotlib.pyplot as plt\n",
      "\n",
      "t = np.arange(0,3.1,.1)\n",
      "integrand = np.exp(-(t**2))\n",
      "\n",
      "plt.plot(t,integrand,label = \"integrand\")\n",
      "plt.plot(x,E_x,label = \"E(x)\")\n",
      "plt.legend(loc = 'center right')"
     ],
     "language": "python",
     "metadata": {},
     "outputs": [
      {
       "metadata": {},
       "output_type": "pyout",
       "prompt_number": 37,
       "text": [
        "<matplotlib.legend.Legend at 0x1057d1110>"
       ]
      },
      {
       "metadata": {},
       "output_type": "display_data",
       "png": "[encoded data removed]",
       "text": [
        "<matplotlib.figure.Figure at 0x1055d6590>"
       ]
      }
     ],
     "prompt_number": 37
    },
    {
     "cell_type": "heading",
     "level": 3,
     "metadata": {},
     "source": [
      "Question 3"
     ]
    },
    {
     "cell_type": "markdown",
     "metadata": {},
     "source": [
      "a) What is the probability of finding the particle between L/3 and L/2 for the ground state (n = 1) and for the first excited state (n = 2)? Let L = 1. Perform the integral using both scipy.integrate.trapz and scipy.integrate.quad with an accuracy of 6 sig figs. How many slices did you need to use for scipy.integrate.trapz?"
     ]
    },
    {
     "cell_type": "code",
     "collapsed": false,
     "input": [
      "integrate.trapz?"
     ],
     "language": "python",
     "metadata": {},
     "outputs": [],
     "prompt_number": 39
    },
    {
     "cell_type": "code",
     "collapsed": false,
     "input": [
      "fun1 = lambda x : (np.sqrt(2)*np.sin(np.pi*x))**2\n",
      "x = np.linspace((1/3.),(1/2.),200)\n",
      "psi = np.sqrt(2)*np.sin(np.pi*x)\n",
      "psi_squared = psi ** 2"
     ],
     "language": "python",
     "metadata": {},
     "outputs": [],
     "prompt_number": 101
    },
    {
     "cell_type": "markdown",
     "metadata": {},
     "source": [
      "Ground state:"
     ]
    },
    {
     "cell_type": "code",
     "collapsed": false,
     "input": [
      "prob_trapz = integrate.trapz(psi_squared,x)\n",
      "prob_quad = integrate.quad(fun1,(1/3.),(1/2.))\n",
      "print prob_trapz, prob_quad"
     ],
     "language": "python",
     "metadata": {},
     "outputs": [
      {
       "output_type": "stream",
       "stream": "stdout",
       "text": [
        "0.304498572454 (0.3044988905221147, 3.380616792304666e-15)\n"
       ]
      }
     ],
     "prompt_number": 102
    },
    {
     "cell_type": "markdown",
     "metadata": {},
     "source": [
      "Needed about 200 slices.\n",
      "\n",
      "Excited State:"
     ]
    },
    {
     "cell_type": "code",
     "collapsed": false,
     "input": [
      "fun2 = lambda x : (np.sqrt(2)*np.sin(np.pi*2*x))**2\n",
      "x2 = np.linspace((1/3.),(1/2.),250)\n",
      "psi2 = np.sqrt(2)*np.sin(np.pi*2*x2)\n",
      "psi_squared_two = psi2 ** 2"
     ],
     "language": "python",
     "metadata": {},
     "outputs": [],
     "prompt_number": 109
    },
    {
     "cell_type": "code",
     "collapsed": false,
     "input": [
      "prob_trapz = integrate.trapz(psi_squared_two,x2)\n",
      "prob_quad = integrate.quad(fun2,(1/3.),(1/2.))\n",
      "print prob_trapz, prob_quad"
     ],
     "language": "python",
     "metadata": {},
     "outputs": [
      {
       "output_type": "stream",
       "stream": "stdout",
       "text": [
        "0.0977509610499 (0.09775055473894276, 1.0852491654105595e-15)\n"
       ]
      }
     ],
     "prompt_number": 110
    },
    {
     "cell_type": "markdown",
     "metadata": {},
     "source": [
      "Needed about 250 slices. "
     ]
    },
    {
     "cell_type": "markdown",
     "metadata": {},
     "source": [
      "(b) Make a plot of |\u03c8(x)|2 vs. x for the first two excited states with L=1."
     ]
    },
    {
     "cell_type": "code",
     "collapsed": false,
     "input": [
      "plt.plot(x,psi_squared,label = \"Ground State\")\n",
      "plt.plot(x2,psi_squared_two,label = \"Excited State \")\n",
      "plt.ylabel(\"${\\psi^2}$\", fontsize = 20)\n",
      "plt.xlabel(\"x\",fontsize=20)\n",
      "plt.legend(loc = 'center right')"
     ],
     "language": "python",
     "metadata": {},
     "outputs": [
      {
       "metadata": {},
       "output_type": "pyout",
       "prompt_number": 117,
       "text": [
        "<matplotlib.legend.Legend at 0x106797f50>"
       ]
      },
      {
       "metadata": {},
       "output_type": "display_data",
       "png": "[encoded data removed]",
       "text": [
        "<matplotlib.figure.Figure at 0x106777250>"
       ]
      }
     ],
     "prompt_number": 117
    },
    {
     "cell_type": "heading",
     "level": 3,
     "metadata": {},
     "source": [
      "Question 4"
     ]
    },
    {
     "cell_type": "markdown",
     "metadata": {},
     "source": [
      "(a) Use numerical integration to find M, r\u20d7 cm, and Icm. Note that you need M to compute r\u20d7 cm and r\u20d7 cm to compute Icm. The moments of inertia Icm are Ixx, Iyy, and Izz, where e.g. Ixx=\u222b((y\u2212ycm)2+(z\u2212zcm)2)\u03c1dV, etc."
     ]
    },
    {
     "cell_type": "code",
     "collapsed": false,
     "input": [
      "from scipy.integrate import tplquad\n",
      "\n",
      "p = lambda z,y,x : 100*(y + .1) + 100*(z**2)\n",
      "\n",
      "xmin = -.1\n",
      "xmax = .1\n",
      "\n",
      "ymin = lambda x: -.1\n",
      "ymax = lambda x: .1\n",
      "\n",
      "zmin = lambda x,y: -.5\n",
      "zmax = lambda x,y: .5\n",
      "\n",
      "M = tplquad(p, xmin, xmax, ymin, ymax, zmin, zmax)[0]\n",
      "\n",
      "px = lambda z,y,x : x*(100*(y + .1) + 100*(z**2))\n",
      "py = lambda z,y,x : y*(100*(y + .1) + 100*(z**2))\n",
      "pz = lambda z,y,x : z*(100*(y + .1) + 100*(z**2))\n",
      "\n",
      "x_cm = tplquad(px, xmin, xmax, ymin, ymax, zmin, zmax)[0]/float(M)\n",
      "y_cm = tplquad(py, xmin, xmax, ymin, ymax, zmin, zmax)[0]/float(M)\n",
      "z_cm = tplquad(pz, xmin, xmax, ymin, ymax, zmin, zmax)[0]/float(M)\n",
      "\n",
      "i_xx = lambda z,y,x : (((y-y_cm)**2)+((z-z_cm)**2))*(100*(y + .1) + 100*(z**2))\n",
      "i_yy = lambda z,y,x : (((x-x_cm)**2)+((z-z_cm)**2))*(100*(y + .1) + 100*(z**2))\n",
      "i_zz = lambda z,y,x : (((y-y_cm)**2)+((x-x_cm)**2))*(100*(y + .1) + 100*(z**2))\n",
      "\n",
      "I_xx = tplquad(i_xx, xmin, xmax, ymin, ymax, zmin, zmax)[0]\n",
      "I_yy = tplquad(i_yy, xmin, xmax, ymin, ymax, zmin, zmax)[0]\n",
      "I_zz = tplquad(i_zz, xmin, xmax, ymin, ymax, zmin, zmax)[0]\n",
      "\n",
      "print \"M = \" + str(M)\n",
      "print \"x_cm =\" + str(x_cm)\n",
      "print \"y_cm =\" + str(y_cm)\n",
      "print \"z_cm =\" + str(z_cm)\n",
      "print \"I_xx =\" + str(I_xx)\n",
      "print \"I_yy =\" + str(I_yy)\n",
      "print \"I_zz =\" + str(I_zz)"
     ],
     "language": "python",
     "metadata": {},
     "outputs": [
      {
       "output_type": "stream",
       "stream": "stdout",
       "text": [
        "M = 0.733333333333\n",
        "x_cm =0.0\n",
        "y_cm =0.0181818181818\n",
        "z_cm =0.0\n",
        "I_xx =0.0855353535354\n",
        "I_yy =0.0857777777778\n",
        "I_zz =0.00464646464646\n"
       ]
      }
     ],
     "prompt_number": 12
    },
    {
     "cell_type": "markdown",
     "metadata": {},
     "source": [
      "(b) The mass, center of mass, and moments of inertia can be easily computed analytically for a rectangular box of uniform density. (Compute them yourself or look them up). Verify your algorithm from part (a) works by having it compute the result for this test case. How accurate (how many sig figs?) is the numerical result?\n"
     ]
    },
    {
     "cell_type": "code",
     "collapsed": false,
     "input": [
      "p = lambda z,y,x : 1\n",
      "\n",
      "xmin = -.1\n",
      "xmax = .1\n",
      "\n",
      "ymin = lambda x: -.1\n",
      "ymax = lambda x: .1\n",
      "\n",
      "zmin = lambda x,y: -.5\n",
      "zmax = lambda x,y: .5\n",
      "\n",
      "M, err = tplquad(p, xmin, xmax, ymin, ymax, zmin, zmax)\n",
      "\n",
      "px = lambda z,y,x : x\n",
      "py = lambda z,y,x : y\n",
      "pz = lambda z,y,x : z\n",
      "\n",
      "x_cm = tplquad(px, xmin, xmax, ymin, ymax, zmin, zmax)[0]/float(M)\n",
      "y_cm = tplquad(py, xmin, xmax, ymin, ymax, zmin, zmax)[0]/float(M)\n",
      "z_cm = tplquad(pz, xmin, xmax, ymin, ymax, zmin, zmax)[0]/float(M)\n",
      "\n",
      "i_xx = lambda z,y,x : (((y-y_cm)**2)+((z-z_cm)**2))\n",
      "i_yy = lambda z,y,x : (((x-x_cm)**2)+((z-z_cm)**2))\n",
      "i_zz = lambda z,y,x : (((y-y_cm)**2)+((x-x_cm)**2))\n",
      "\n",
      "I_xx = tplquad(i_xx, xmin, xmax, ymin, ymax, zmin, zmax)[0]\n",
      "I_yy = tplquad(i_yy, xmin, xmax, ymin, ymax, zmin, zmax)[0]\n",
      "I_zz = tplquad(i_zz, xmin, xmax, ymin, ymax, zmin, zmax)[0]\n",
      "\n",
      "print \"M = \" + str(M)\n",
      "print \"x_cm =\" + str(x_cm)\n",
      "print \"y_cm =\" + str(y_cm)\n",
      "print \"z_cm =\" + str(z_cm)\n",
      "print \"I_xx =\" + str(I_xx)\n",
      "print \"I_yy =\" + str(I_yy)\n",
      "print \"I_zz =\" + str(I_zz)"
     ],
     "language": "python",
     "metadata": {},
     "outputs": [
      {
       "output_type": "stream",
       "stream": "stdout",
       "text": [
        "M = 0.04\n",
        "x_cm =0.0\n",
        "y_cm =0.0\n",
        "z_cm =0.0\n",
        "I_xx =0.00346666666667\n",
        "I_yy =0.00346666666667\n",
        "I_zz =0.000266666666667\n"
       ]
      }
     ],
     "prompt_number": 142
    },
    {
     "cell_type": "markdown",
     "metadata": {},
     "source": [
      "Accurate to 11 sig figs. "
     ]
    },
    {
     "cell_type": "markdown",
     "metadata": {},
     "source": [
      "(c) Finally, change the density function to something of your choosing (different from that used in parts (a) and (b)) and recompute M, r\u20d7 cm and Icm for that case."
     ]
    },
    {
     "cell_type": "code",
     "collapsed": false,
     "input": [
      "p = lambda z,y,x : z**2   #At first I tried x*y*z but mass came out as zero \n",
      "                          #because function was odd. \n",
      "\n",
      "xmin = -.1\n",
      "xmax = .1\n",
      "\n",
      "ymin = lambda x: -.1\n",
      "ymax = lambda x: .1\n",
      "\n",
      "zmin = lambda x,y: -.5\n",
      "zmax = lambda x,y: .5\n",
      "\n",
      "M, err = tplquad(p, xmin, xmax, ymin, ymax, zmin, zmax)\n",
      "print M\n",
      "px = lambda z,y,x : x*(z**2)\n",
      "py = lambda z,y,x : y*(z**2)\n",
      "pz = lambda z,y,x : z*(z**2)\n",
      "\n",
      "x_cm = tplquad(px, xmin, xmax, ymin, ymax, zmin, zmax)[0]/float(M)\n",
      "y_cm = tplquad(py, xmin, xmax, ymin, ymax, zmin, zmax)[0]/float(M)\n",
      "z_cm = tplquad(pz, xmin, xmax, ymin, ymax, zmin, zmax)[0]/float(M)\n",
      "\n",
      "i_xx = lambda z,y,x : (((y-y_cm)**2)+((z-z_cm)**2))*(z**2)\n",
      "i_yy = lambda z,y,x : (((x-x_cm)**2)+((z-z_cm)**2))*(z**2)\n",
      "i_zz = lambda z,y,x : (((y-y_cm)**2)+((x-x_cm)**2))*(z**2)\n",
      "\n",
      "I_xx = tplquad(i_xx, xmin, xmax, ymin, ymax, zmin, zmax)[0]\n",
      "I_yy = tplquad(i_yy, xmin, xmax, ymin, ymax, zmin, zmax)[0]\n",
      "I_zz = tplquad(i_zz, xmin, xmax, ymin, ymax, zmin, zmax)[0]\n",
      "\n",
      "print \"M = \" + str(M)\n",
      "print \"x_cm =\" + str(x_cm)\n",
      "print \"y_cm =\" + str(y_cm)\n",
      "print \"z_cm =\" + str(z_cm)\n",
      "print \"I_xx =\" + str(I_xx)\n",
      "print \"I_yy =\" + str(I_yy)\n",
      "print \"I_zz =\" + str(I_zz)"
     ],
     "language": "python",
     "metadata": {},
     "outputs": [
      {
       "output_type": "stream",
       "stream": "stdout",
       "text": [
        "0.00333333333333\n",
        "M = 0.00333333333333"
       ]
      },
      {
       "output_type": "stream",
       "stream": "stdout",
       "text": [
        "\n",
        "x_cm =0.0\n",
        "y_cm =0.0\n",
        "z_cm =0.0\n",
        "I_xx =0.000511111111111\n",
        "I_yy =0.000511111111111\n",
        "I_zz =2.22222222222e-05\n"
       ]
      }
     ],
     "prompt_number": 10
    },
    {
     "cell_type": "code",
     "collapsed": false,
     "input": [],
     "language": "python",
     "metadata": {},
     "outputs": []
    }
   ],
   "metadata": {}
  }
 ]
}