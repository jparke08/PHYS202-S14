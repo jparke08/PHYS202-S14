{
 "metadata": {
  "name": "",
  "signature": "sha256:369e74070dfa2a5f1007e97076e2218d0a9d3dfb4c05b3940e8013741c022116"
 },
 "nbformat": 3,
 "nbformat_minor": 0,
 "worksheets": [
  {
   "cells": [
    {
     "cell_type": "heading",
     "level": 1,
     "metadata": {},
     "source": [
      "Integration Exercises"
     ]
    },
    {
     "cell_type": "code",
     "collapsed": false,
     "input": [
      "%pylab inline"
     ],
     "language": "python",
     "metadata": {},
     "outputs": [
      {
       "output_type": "stream",
       "stream": "stdout",
       "text": [
        "Populating the interactive namespace from numpy and matplotlib\n"
       ]
      }
     ],
     "prompt_number": 1
    },
    {
     "cell_type": "heading",
     "level": 3,
     "metadata": {},
     "source": [
      "Question 1"
     ]
    },
    {
     "cell_type": "markdown",
     "metadata": {},
     "source": [
      "\n",
      "(a) Write two functions trapz(func,a,b,N) and simps(func,a,b,N) to compute the integral of the function func over the variable x using the trapezoidal rule and Simpson's rule to a file called Integrators.py. Do not use the scipy.integrate built-in functions. Include docstrings with each function that describe what they do. Then import the module and use the functions to answer the following questions. To avoid namespace conflicts, import your module as myint and then call the functions from that namespace. i.e.\n",
      "    import integrators as myint\n",
      "    #...your code...here\n",
      "    I = myint.trapz(func,a,b,N)\n",
      "Also, be sure that you import any needed modules inside your Integrators.py file."
     ]
    },
    {
     "cell_type": "code",
     "collapsed": false,
     "input": [
      "%%file Integrators.py\n",
      "#%pylab inline\n",
      "import numpy as np\n",
      "def trapz(func,a,b,N):\n",
      "    \"\"\" Integrates a function from a to b with N \n",
      "    slices using trapezoidal rule\"\"\"\n",
      "    a = float(a)\n",
      "    b = float(b)\n",
      "    h = (b-a)/N\n",
      "\n",
      "    k = np.arange(1,N)\n",
      "    return h*(0.5*func(a) + 0.5*func(b) + func(a+k*h).sum())\n",
      "\n",
      "def simps(func,a,b,N):\n",
      "    \"\"\" Integrates a function from a to b with N\n",
      "    slices using Simpson's rule\"\"\"\n",
      "    a = float(a)\n",
      "    b = float(b)\n",
      "    h = (b-a)/N\n",
      "\n",
      "    k1 = np.arange(1,N/2+1)\n",
      "    k2 = np.arange(1,N/2)\n",
      "    return (1./3.)*h*(func(a) + func(b) + 4.*func(a+(2*k1-1)*h).sum() + 2.*func(a+2*k2*h).sum())"
     ],
     "language": "python",
     "metadata": {},
     "outputs": [
      {
       "output_type": "stream",
       "stream": "stdout",
       "text": [
        "Overwriting Integrators.py\n"
       ]
      }
     ],
     "prompt_number": 4
    },
    {
     "cell_type": "markdown",
     "metadata": {},
     "source": [
      "(b) Use your trapz and simps functions from part (a) to calculate the integral of x4\u22122x+1 from x = 0 to x = 2 with N = 10, N = 100, and N = 1000. Then compare your result to the known correct value of 4.4. What is the percent error in each case?"
     ]
    },
    {
     "cell_type": "code",
     "collapsed": false,
     "input": [
      "func = lambda x: x**4 - 2*x + 1\n",
      "import Integrators as myint\n",
      "\n",
      "trapz10 = myint.trapz(func,0,2,10)\n",
      "trapz100 = myint.trapz(func,0,2,100)\n",
      "trapz1000 = myint.trapz(func,0,2,1000)\n",
      "trapz10"
     ],
     "language": "python",
     "metadata": {},
     "outputs": [
      {
       "output_type": "stream",
       "stream": "stdout",
       "text": [
        "2.0\n",
        "2.0\n",
        "2.0\n"
       ]
      },
      {
       "metadata": {},
       "output_type": "pyout",
       "prompt_number": 6,
       "text": [
        "4.5065600000000003"
       ]
      }
     ],
     "prompt_number": 6
    },
    {
     "cell_type": "code",
     "collapsed": false,
     "input": [
      "def trapz(func,a,b,N):\n",
      "    \"\"\" Integrates a function from a to b with N \n",
      "    slices using trapezoidal rule\"\"\"\n",
      "    a = float(a)\n",
      "    b = float(b)\n",
      "    h = (b-a)/N\n",
      "    k = np.arange(1,N)\n",
      "    I = h*(0.5*func(a) + 0.5*func(b) + func(a+k*h).sum())\n",
      "    return I\n",
      "func = lambda x: x**4 - 2*x + 1\n",
      "trapz10 = trapz(func,0,2,10)\n",
      "trapz10"
     ],
     "language": "python",
     "metadata": {},
     "outputs": [
      {
       "metadata": {},
       "output_type": "pyout",
       "prompt_number": 25,
       "text": [
        "4.5065600000000003"
       ]
      }
     ],
     "prompt_number": 25
    },
    {
     "cell_type": "code",
     "collapsed": false,
     "input": [],
     "language": "python",
     "metadata": {},
     "outputs": []
    }
   ],
   "metadata": {}
  }
 ]
}