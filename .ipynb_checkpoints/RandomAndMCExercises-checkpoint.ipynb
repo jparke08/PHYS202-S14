{
 "metadata": {
  "name": "",
  "signature": "sha256:db859b44e3eee38f7a789861be69cdac53cefa8ae9a6a2e3bd2218a966a029e5"
 },
 "nbformat": 3,
 "nbformat_minor": 0,
 "worksheets": []
}