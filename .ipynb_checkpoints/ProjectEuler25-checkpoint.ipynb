{
 "metadata": {
  "name": "",
  "signature": "sha256:e295ddfa998fd0a1bd73ab23e33320893362d88d7d69b99c30db1717829a5698"
 },
 "nbformat": 3,
 "nbformat_minor": 0,
 "worksheets": [
  {
   "cells": [
    {
     "cell_type": "heading",
     "level": 1,
     "metadata": {},
     "source": [
      "1000-digit Fibonacci number"
     ]
    },
    {
     "cell_type": "markdown",
     "metadata": {},
     "source": [
      "The Fibonacci sequence is defined by the recurrence relation:\n",
      "\n",
      "Fn = Fn1 + Fn2, where F1 = 1 and F2 = 1.\n",
      "Hence the first 12 terms will be:\n",
      "\n",
      "F1 = 1\n",
      "F2 = 1\n",
      "F3 = 2\n",
      "F4 = 3\n",
      "F5 = 5\n",
      "F6 = 8\n",
      "F7 = 13\n",
      "F8 = 21\n",
      "F9 = 34\n",
      "F10 = 55\n",
      "F11 = 89\n",
      "F12 = 144\n",
      "The 12th term, F12, is the first term to contain three digits.\n",
      "\n",
      "What is the first term in the Fibonacci sequence to contain 1000 digits?"
     ]
    },
    {
     "cell_type": "code",
     "collapsed": false,
     "input": [
      "fibonacci_numbers = [1,1]\n",
      "\n",
      "\n",
      "while len(str(fibonacci_numbers[len(fibonacci_numbers)-1])) != 3:\n",
      "        fibonacci_numbers.append(fibonacci_numbers[len(fibonacci_numbers)-1] + fibonacci_numbers[len(fibonacci_numbers)-2])\n",
      "\n",
      "        \n",
      "answer = len(fibonacci_numbers)\n",
      "print \"The first term to contain three digits is: Term %d\" %(answer)"
     ],
     "language": "python",
     "metadata": {},
     "outputs": [
      {
       "output_type": "stream",
       "stream": "stdout",
       "text": [
        "The first term to contain three digits is: Term 12\n"
       ]
      }
     ],
     "prompt_number": 14
    },
    {
     "cell_type": "code",
     "collapsed": false,
     "input": [
      "fibonacci_numbers = [1,1]\n",
      "\n",
      "\n",
      "while len(str(fibonacci_numbers[len(fibonacci_numbers)-1])) != 1000:\n",
      "        fibonacci_numbers.append(fibonacci_numbers[len(fibonacci_numbers)-1] + fibonacci_numbers[len(fibonacci_numbers)-2])\n",
      "\n",
      "        \n",
      "answer = len(fibonacci_numbers)\n",
      "print \"The first term to contain 1000 digits is: Term %d\" %(answer)"
     ],
     "language": "python",
     "metadata": {},
     "outputs": [
      {
       "output_type": "stream",
       "stream": "stdout",
       "text": [
        "The first term to contain 1000 digits is: Term 4782\n"
       ]
      }
     ],
     "prompt_number": 16
    },
    {
     "cell_type": "code",
     "collapsed": false,
     "input": [],
     "language": "python",
     "metadata": {},
     "outputs": []
    }
   ],
   "metadata": {}
  }
 ]
}