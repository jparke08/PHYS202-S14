{
 "metadata": {
  "name": "",
  "signature": "sha256:871dca975989e1eedda149ee3e2c0bd0e68fe17333e20def682dd51cc42dd2df"
 },
 "nbformat": 3,
 "nbformat_minor": 0,
 "worksheets": []
}