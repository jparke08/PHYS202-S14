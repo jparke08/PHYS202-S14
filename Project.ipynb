{
 "metadata": {
  "name": "",
  "signature": "sha256:b0db8264f9b997adec4a4de4d1aa8d8390e0af1dbf5e7d4e585af3864239f05a"
 },
 "nbformat": 3,
 "nbformat_minor": 0,
 "worksheets": [
  {
   "cells": [
    {
     "cell_type": "heading",
     "level": 1,
     "metadata": {},
     "source": [
      "Schelling Model"
     ]
    },
    {
     "cell_type": "code",
     "collapsed": false,
     "input": [
      "from random import *\n",
      "from ipythonblocks import BlockGrid\n",
      "from ipythonblocks import colors\n",
      "import numpy as np\n",
      "from IPython.html.widgets import interact, interactive\n",
      "from IPython.html import widgets \n",
      "from IPython.display import display \n",
      "from IPython.display import clear_output\n",
      "\n",
      "\n",
      "\n",
      "\n",
      "############################################\n",
      "def random_row(grid):\n",
      "    return randint(0, grid.height - 1)\n",
      "\n",
      "def random_col(grid):\n",
      "    return randint(0, grid.width - 1)\n",
      "\n",
      "def make_system(pop_density,blue_concentration,size=25):   #pop_density is percent of empties, concentrations are percentages\n",
      "\n",
      "\n",
      "    system = BlockGrid(size, size, fill=(0,0,0),block_size=300/size)\n",
      "\n",
      "    total = size**2\n",
      "    empties = (total * pop_density)/100\n",
      "    blues_reds = total - empties\n",
      "    blues = (blue_concentration * blues_reds)/100\n",
      "    reds = blues_reds - blues\n",
      "\n",
      "    row = random_row(system)\n",
      "    col = random_col(system)\n",
      "\n",
      "    #create random locations for blue agents\n",
      "    count_blues = 0\n",
      "    while count_blues < blues:\n",
      "        row = random_row(system)\n",
      "        col = random_col(system)\n",
      "        if system[row,col].rgb == white:\n",
      "            system[row,col] = blue\n",
      "            count_blues += 1\n",
      "    #create random locations for red agents    \n",
      "    count_reds = 0\n",
      "    while count_reds < reds:\n",
      "        row = random_row(system)\n",
      "        col = random_col(system)\n",
      "        if system[row,col].rgb == white:\n",
      "            system[row,col] = red\n",
      "            count_reds += 1\n",
      "    system.show()\n",
      "    return system\n",
      "\n",
      "\n",
      "def find_similar_agents(grid,x,y):\n",
      "    \"\"\"checks all adjacent agents and counts all the simillar\n",
      "    agents. At the end the function returns the percentage\n",
      "    of similar agents. Also fills list of nulls with all\n",
      "    empty blocks.\"\"\"\n",
      "    count = 0\n",
      "    checks = 0\n",
      "    if grid[y,x].rgb != white:\n",
      "        if x > 0:\n",
      "            if grid[y,x-1].rgb != white:\n",
      "                checks += 1\n",
      "            if grid[y,x]==grid[y,x-1]: #checks agent to left\n",
      "                count += 1\n",
      "        if x < grid.width - 1:\n",
      "            if grid[y,x+1].rgb != white:\n",
      "                checks += 1\n",
      "            if grid[y,x]==grid[y,x+1]:  #checks agent to right\n",
      "                count += 1\n",
      "        if y > 0: \n",
      "            if grid[y-1,x].rgb != white:\n",
      "                checks += 1\n",
      "            if grid[y,x]==grid[y-1,x]:   #checks agent above\n",
      "                count += 1\n",
      "        if y < grid.height - 1:\n",
      "            if grid[y+1,x].rgb != white:\n",
      "                checks += 1\n",
      "            if grid[y,x]==grid[y+1,x]:     #checks agent below\n",
      "                count += 1\n",
      "        if x > 0 and y > 0:\n",
      "            if grid[y-1,x-1].rgb != white:\n",
      "                checks += 1\n",
      "            if grid[y,x]==grid[y-1,x-1]:   #checks agent above and to left\n",
      "                count += 1\n",
      "        if x < grid.width - 1 and y > 0: \n",
      "            if grid[y-1,x+1].rgb != white:\n",
      "                checks += 1\n",
      "            if grid [y,x]==grid[y-1,x+1]:   #checks agent above and to right\n",
      "                count += 1\n",
      "        if x > 0 and y < grid.height - 1:\n",
      "            if grid[y+1,x-1].rgb != white:\n",
      "                checks += 1\n",
      "            if grid[y,x]==grid[y+1,x-1]:      #checks agent below and to left\n",
      "                count += 1\n",
      "        if x < grid.width - 1 and y < grid.height -1:\n",
      "            if grid[y+1,x+1].rgb != white:\n",
      "                checks += 1\n",
      "            if grid[y,x]==grid[y+1,x+1]:      #checks agent below and to right\n",
      "                count += 1\n",
      "        if checks == 0:\n",
      "            return 0\n",
      "        else:\n",
      "            return (count/float(checks)) * 100\n",
      "    else:\n",
      "        return None\n",
      "# check the satisfaction for each agent using a threshold and add them to a list of 'movers' if they are not satisfied\n",
      "\n",
      "def find_movers(grid,threshold):\n",
      "    for i in range(grid.width):\n",
      "        for j in range(grid.height):\n",
      "            if find_similar_agents(grid,i,j) != None and find_similar_agents(grid,i,j) < threshold:\n",
      "                   movers.append((j,i))\n",
      "            elif find_similar_agents(grid,i,j) == None:\n",
      "                nulls.append((j,i))\n",
      "    return movers, nulls\n",
      "\n",
      "\n",
      "\n",
      "def move_agents(grid,threshold):\n",
      "    for i in range(len(movers)):\n",
      "        for null in nulls:\n",
      "            original_color = grid[movers[0]].rgb     #move the mover to a null and replace null with mover\n",
      "            grid[null] = grid[movers[0]]\n",
      "            grid[movers[0]] = white\n",
      "            if find_similar_agents(grid, null[1],null[0]) < threshold: \n",
      "                grid[null] = white              #if mover is not satisfied move it back to where it was before\n",
      "                grid[movers[0]] = original_color\n",
      "                if nulls[len(nulls) - 1] == null:    # if mover has no place to go then keep it where it is\n",
      "                    movers.remove(movers[0])\n",
      "                    #print null\n",
      "            else:\n",
      "                nulls.remove(null)          \n",
      "                nulls.append(movers[0])\n",
      "                movers.remove(movers[0])\n",
      "                break\n",
      "def run_shell_model(threshold,system,round,movers,nulls):\n",
      "    \n",
      "\n",
      "    while find_movers(system,threshold)[0]:\n",
      "        np.random.shuffle(movers)\n",
      "        np.random.shuffle(nulls)\n",
      "        move_agents(system,threshold)\n",
      "        round += 1\n",
      "        clear_output()\n",
      "        print \"Round %d:\"%(round)\n",
      "        system.show()\n",
      "        nulls = []\n",
      "def start_button(widget):\n",
      "    run_shell_model(threshold.value,system,round,movers,nulls)\n",
      "def reset_button(widget):\n",
      "    clear_output()\n",
      "    system = make_system(pop_density.value,blue_concentration.value,size.value)\n",
      "    \n",
      "\n",
      "\n",
      "    \n",
      "##################################################    \n",
      "red = (255,0,0)\n",
      "blue = (0,0,255)\n",
      "white = (0, 0, 0)\n",
      "round = 0\n",
      "movers = []\n",
      "nulls = []\n",
      "\n",
      "\n",
      "pop_density = widgets.FloatSliderWidget(description = \"Poplulation Density\")\n",
      "display(pop_density)\n",
      "\n",
      "blue_concentration = widgets.FloatSliderWidget(description = \"Red/Blue\")\n",
      "display(blue_concentration)\n",
      "\n",
      "size = widgets.IntSliderWidget(min = 10,max = 50,description = \"Size\",valinit=25)\n",
      "display(size)\n",
      "\n",
      "threshold = widgets.FloatSliderWidget(description = \"Threshold\")\n",
      "display(threshold)\n",
      "\n",
      "system = make_system(pop_density.value,blue_concentration.value,size.value)\n",
      "\n",
      "#system = interactive(make_system,pop_density=(0,100),blue_concentration=(0,100),size=(0,50),threshold=(0.,100.))\n",
      "#display(system)\n",
      "\n",
      "start = widgets.ButtonWidget(description='Start')\n",
      "start.on_click(start_button)\n",
      "display(start)\n",
      "reset = widgets.ButtonWidget(description='Reset')\n",
      "reset.on_click(reset_button)\n",
      "display(reset)\n"
     ],
     "language": "python",
     "metadata": {},
     "outputs": [
      {
       "ename": "ZeroDivisionError",
       "evalue": "integer division or modulo by zero",
       "output_type": "pyerr",
       "traceback": [
        "\u001b[0;31m---------------------------------------------------------------------------\u001b[0m\n\u001b[0;31mZeroDivisionError\u001b[0m                         Traceback (most recent call last)",
        "\u001b[0;32m<ipython-input-37-04a69bc3637a>\u001b[0m in \u001b[0;36m<module>\u001b[0;34m()\u001b[0m\n\u001b[1;32m    178\u001b[0m \u001b[0mdisplay\u001b[0m\u001b[0;34m(\u001b[0m\u001b[0mthreshold\u001b[0m\u001b[0;34m)\u001b[0m\u001b[0;34m\u001b[0m\u001b[0m\n\u001b[1;32m    179\u001b[0m \u001b[0;34m\u001b[0m\u001b[0m\n\u001b[0;32m--> 180\u001b[0;31m \u001b[0msystem\u001b[0m \u001b[0;34m=\u001b[0m \u001b[0mmake_system\u001b[0m\u001b[0;34m(\u001b[0m\u001b[0mpop_density\u001b[0m\u001b[0;34m.\u001b[0m\u001b[0mvalue\u001b[0m\u001b[0;34m,\u001b[0m\u001b[0mblue_concentration\u001b[0m\u001b[0;34m.\u001b[0m\u001b[0mvalue\u001b[0m\u001b[0;34m,\u001b[0m\u001b[0msize\u001b[0m\u001b[0;34m.\u001b[0m\u001b[0mvalue\u001b[0m\u001b[0;34m)\u001b[0m\u001b[0;34m\u001b[0m\u001b[0m\n\u001b[0m\u001b[1;32m    181\u001b[0m \u001b[0;34m\u001b[0m\u001b[0m\n\u001b[1;32m    182\u001b[0m \u001b[0;31m#system = interactive(make_system,pop_density=(0,100),blue_concentration=(0,100),size=(0,50),threshold=(0.,100.))\u001b[0m\u001b[0;34m\u001b[0m\u001b[0;34m\u001b[0m\u001b[0m\n",
        "\u001b[0;32m<ipython-input-37-04a69bc3637a>\u001b[0m in \u001b[0;36mmake_system\u001b[0;34m(pop_density, blue_concentration, size)\u001b[0m\n\u001b[1;32m     21\u001b[0m \u001b[0;34m\u001b[0m\u001b[0m\n\u001b[1;32m     22\u001b[0m \u001b[0;34m\u001b[0m\u001b[0m\n\u001b[0;32m---> 23\u001b[0;31m     \u001b[0msystem\u001b[0m \u001b[0;34m=\u001b[0m \u001b[0mBlockGrid\u001b[0m\u001b[0;34m(\u001b[0m\u001b[0msize\u001b[0m\u001b[0;34m,\u001b[0m \u001b[0msize\u001b[0m\u001b[0;34m,\u001b[0m \u001b[0mfill\u001b[0m\u001b[0;34m=\u001b[0m\u001b[0;34m(\u001b[0m\u001b[0;36m0\u001b[0m\u001b[0;34m,\u001b[0m\u001b[0;36m0\u001b[0m\u001b[0;34m,\u001b[0m\u001b[0;36m0\u001b[0m\u001b[0;34m)\u001b[0m\u001b[0;34m,\u001b[0m\u001b[0mblock_size\u001b[0m\u001b[0;34m=\u001b[0m\u001b[0;36m300\u001b[0m\u001b[0;34m/\u001b[0m\u001b[0msize\u001b[0m\u001b[0;34m)\u001b[0m\u001b[0;34m\u001b[0m\u001b[0m\n\u001b[0m\u001b[1;32m     24\u001b[0m \u001b[0;34m\u001b[0m\u001b[0m\n\u001b[1;32m     25\u001b[0m     \u001b[0mtotal\u001b[0m \u001b[0;34m=\u001b[0m \u001b[0msize\u001b[0m\u001b[0;34m**\u001b[0m\u001b[0;36m2\u001b[0m\u001b[0;34m\u001b[0m\u001b[0m\n",
        "\u001b[0;31mZeroDivisionError\u001b[0m: integer division or modulo by zero"
       ]
      }
     ],
     "prompt_number": 37
    },
    {
     "cell_type": "code",
     "collapsed": false,
     "input": [
      "size = widgets.IntSliderWidget(10,50,valinit=20,description = \"Size\")\n",
      "display(size)"
     ],
     "language": "python",
     "metadata": {},
     "outputs": [
      {
       "ename": "TypeError",
       "evalue": "__init__() takes exactly 1 argument (5 given)",
       "output_type": "pyerr",
       "traceback": [
        "\u001b[0;31m---------------------------------------------------------------------------\u001b[0m\n\u001b[0;31mTypeError\u001b[0m                                 Traceback (most recent call last)",
        "\u001b[0;32m<ipython-input-40-e088696337ca>\u001b[0m in \u001b[0;36m<module>\u001b[0;34m()\u001b[0m\n\u001b[0;32m----> 1\u001b[0;31m \u001b[0msize\u001b[0m \u001b[0;34m=\u001b[0m \u001b[0mwidgets\u001b[0m\u001b[0;34m.\u001b[0m\u001b[0mIntSliderWidget\u001b[0m\u001b[0;34m(\u001b[0m\u001b[0;36m10\u001b[0m\u001b[0;34m,\u001b[0m\u001b[0;36m50\u001b[0m\u001b[0;34m,\u001b[0m\u001b[0mvalinit\u001b[0m\u001b[0;34m=\u001b[0m\u001b[0;36m20\u001b[0m\u001b[0;34m,\u001b[0m\u001b[0mdescription\u001b[0m \u001b[0;34m=\u001b[0m \u001b[0;34m\"Size\"\u001b[0m\u001b[0;34m)\u001b[0m\u001b[0;34m\u001b[0m\u001b[0m\n\u001b[0m\u001b[1;32m      2\u001b[0m \u001b[0mdisplay\u001b[0m\u001b[0;34m(\u001b[0m\u001b[0msize\u001b[0m\u001b[0;34m)\u001b[0m\u001b[0;34m\u001b[0m\u001b[0m\n",
        "\u001b[0;32m/Users/joshuaparker/anaconda/lib/python2.7/site-packages/IPython/html/widgets/widget_int.pyc\u001b[0m in \u001b[0;36m__init__\u001b[0;34m(self, *pargs, **kwargs)\u001b[0m\n\u001b[1;32m     33\u001b[0m     \u001b[0;32mdef\u001b[0m \u001b[0m__init__\u001b[0m\u001b[0;34m(\u001b[0m\u001b[0mself\u001b[0m\u001b[0;34m,\u001b[0m \u001b[0;34m*\u001b[0m\u001b[0mpargs\u001b[0m\u001b[0;34m,\u001b[0m \u001b[0;34m**\u001b[0m\u001b[0mkwargs\u001b[0m\u001b[0;34m)\u001b[0m\u001b[0;34m:\u001b[0m\u001b[0;34m\u001b[0m\u001b[0m\n\u001b[1;32m     34\u001b[0m         \u001b[0;34m\"\"\"Constructor\"\"\"\u001b[0m\u001b[0;34m\u001b[0m\u001b[0m\n\u001b[0;32m---> 35\u001b[0;31m         \u001b[0mDOMWidget\u001b[0m\u001b[0;34m.\u001b[0m\u001b[0m__init__\u001b[0m\u001b[0;34m(\u001b[0m\u001b[0mself\u001b[0m\u001b[0;34m,\u001b[0m \u001b[0;34m*\u001b[0m\u001b[0mpargs\u001b[0m\u001b[0;34m,\u001b[0m \u001b[0;34m**\u001b[0m\u001b[0mkwargs\u001b[0m\u001b[0;34m)\u001b[0m\u001b[0;34m\u001b[0m\u001b[0m\n\u001b[0m\u001b[1;32m     36\u001b[0m         \u001b[0mself\u001b[0m\u001b[0;34m.\u001b[0m\u001b[0mon_trait_change\u001b[0m\u001b[0;34m(\u001b[0m\u001b[0mself\u001b[0m\u001b[0;34m.\u001b[0m\u001b[0m_validate\u001b[0m\u001b[0;34m,\u001b[0m \u001b[0;34m[\u001b[0m\u001b[0;34m'value'\u001b[0m\u001b[0;34m,\u001b[0m \u001b[0;34m'min'\u001b[0m\u001b[0;34m,\u001b[0m \u001b[0;34m'max'\u001b[0m\u001b[0;34m]\u001b[0m\u001b[0;34m)\u001b[0m\u001b[0;34m\u001b[0m\u001b[0m\n\u001b[1;32m     37\u001b[0m \u001b[0;34m\u001b[0m\u001b[0m\n",
        "\u001b[0;31mTypeError\u001b[0m: __init__() takes exactly 1 argument (5 given)"
       ]
      }
     ],
     "prompt_number": 40
    },
    {
     "cell_type": "code",
     "collapsed": false,
     "input": [
      "size = widgets.IntSliderWidget(min = -5, max = 5)\n",
      "display(size)"
     ],
     "language": "python",
     "metadata": {},
     "outputs": [
      {
       "ename": "TypeError",
       "evalue": "__init__() takes exactly 1 argument (3 given)",
       "output_type": "pyerr",
       "traceback": [
        "\u001b[0;31m---------------------------------------------------------------------------\u001b[0m\n\u001b[0;31mTypeError\u001b[0m                                 Traceback (most recent call last)",
        "\u001b[0;32m<ipython-input-44-272f5714aa8c>\u001b[0m in \u001b[0;36m<module>\u001b[0;34m()\u001b[0m\n\u001b[0;32m----> 1\u001b[0;31m \u001b[0msize\u001b[0m \u001b[0;34m=\u001b[0m \u001b[0mwidgets\u001b[0m\u001b[0;34m.\u001b[0m\u001b[0mIntSliderWidget\u001b[0m\u001b[0;34m(\u001b[0m\u001b[0;34m-\u001b[0m\u001b[0;36m5\u001b[0m\u001b[0;34m,\u001b[0m \u001b[0;36m5\u001b[0m\u001b[0;34m)\u001b[0m\u001b[0;34m\u001b[0m\u001b[0m\n\u001b[0m\u001b[1;32m      2\u001b[0m \u001b[0mdisplay\u001b[0m\u001b[0;34m(\u001b[0m\u001b[0msize\u001b[0m\u001b[0;34m)\u001b[0m\u001b[0;34m\u001b[0m\u001b[0m\n",
        "\u001b[0;32m/Users/joshuaparker/anaconda/lib/python2.7/site-packages/IPython/html/widgets/widget_int.pyc\u001b[0m in \u001b[0;36m__init__\u001b[0;34m(self, *pargs, **kwargs)\u001b[0m\n\u001b[1;32m     33\u001b[0m     \u001b[0;32mdef\u001b[0m \u001b[0m__init__\u001b[0m\u001b[0;34m(\u001b[0m\u001b[0mself\u001b[0m\u001b[0;34m,\u001b[0m \u001b[0;34m*\u001b[0m\u001b[0mpargs\u001b[0m\u001b[0;34m,\u001b[0m \u001b[0;34m**\u001b[0m\u001b[0mkwargs\u001b[0m\u001b[0;34m)\u001b[0m\u001b[0;34m:\u001b[0m\u001b[0;34m\u001b[0m\u001b[0m\n\u001b[1;32m     34\u001b[0m         \u001b[0;34m\"\"\"Constructor\"\"\"\u001b[0m\u001b[0;34m\u001b[0m\u001b[0m\n\u001b[0;32m---> 35\u001b[0;31m         \u001b[0mDOMWidget\u001b[0m\u001b[0;34m.\u001b[0m\u001b[0m__init__\u001b[0m\u001b[0;34m(\u001b[0m\u001b[0mself\u001b[0m\u001b[0;34m,\u001b[0m \u001b[0;34m*\u001b[0m\u001b[0mpargs\u001b[0m\u001b[0;34m,\u001b[0m \u001b[0;34m**\u001b[0m\u001b[0mkwargs\u001b[0m\u001b[0;34m)\u001b[0m\u001b[0;34m\u001b[0m\u001b[0m\n\u001b[0m\u001b[1;32m     36\u001b[0m         \u001b[0mself\u001b[0m\u001b[0;34m.\u001b[0m\u001b[0mon_trait_change\u001b[0m\u001b[0;34m(\u001b[0m\u001b[0mself\u001b[0m\u001b[0;34m.\u001b[0m\u001b[0m_validate\u001b[0m\u001b[0;34m,\u001b[0m \u001b[0;34m[\u001b[0m\u001b[0;34m'value'\u001b[0m\u001b[0;34m,\u001b[0m \u001b[0;34m'min'\u001b[0m\u001b[0;34m,\u001b[0m \u001b[0;34m'max'\u001b[0m\u001b[0;34m]\u001b[0m\u001b[0;34m)\u001b[0m\u001b[0;34m\u001b[0m\u001b[0m\n\u001b[1;32m     37\u001b[0m \u001b[0;34m\u001b[0m\u001b[0m\n",
        "\u001b[0;31mTypeError\u001b[0m: __init__() takes exactly 1 argument (3 given)"
       ]
      }
     ],
     "prompt_number": 44
    },
    {
     "cell_type": "code",
     "collapsed": false,
     "input": [
      "widgets.IntSliderWidget.on_trait_change?"
     ],
     "language": "python",
     "metadata": {},
     "outputs": [],
     "prompt_number": 71
    },
    {
     "cell_type": "code",
     "collapsed": false,
     "input": [
      "pop_density.value"
     ],
     "language": "python",
     "metadata": {},
     "outputs": [
      {
       "ename": "NameError",
       "evalue": "name 'pop_density' is not defined",
       "output_type": "pyerr",
       "traceback": [
        "\u001b[0;31m---------------------------------------------------------------------------\u001b[0m\n\u001b[0;31mNameError\u001b[0m                                 Traceback (most recent call last)",
        "\u001b[0;32m<ipython-input-51-bcc228912194>\u001b[0m in \u001b[0;36m<module>\u001b[0;34m()\u001b[0m\n\u001b[0;32m----> 1\u001b[0;31m \u001b[0mpop_density\u001b[0m\u001b[0;34m.\u001b[0m\u001b[0mvalue\u001b[0m\u001b[0;34m\u001b[0m\u001b[0m\n\u001b[0m",
        "\u001b[0;31mNameError\u001b[0m: name 'pop_density' is not defined"
       ]
      }
     ],
     "prompt_number": 51
    },
    {
     "cell_type": "code",
     "collapsed": false,
     "input": [
      "interact?"
     ],
     "language": "python",
     "metadata": {},
     "outputs": [],
     "prompt_number": 66
    },
    {
     "cell_type": "code",
     "collapsed": false,
     "input": [
      ".BlockGrid?"
     ],
     "language": "python",
     "metadata": {},
     "outputs": [],
     "prompt_number": 73
    },
    {
     "cell_type": "code",
     "collapsed": false,
     "input": [
      ".BlockGrid"
     ],
     "language": "python",
     "metadata": {},
     "outputs": []
    },
    {
     "cell_type": "code",
     "collapsed": false,
     "input": [
      "BlockGrid.show?"
     ],
     "language": "python",
     "metadata": {},
     "outputs": [],
     "prompt_number": 7
    },
    {
     "cell_type": "code",
     "collapsed": false,
     "input": [
      "%pylab inline\n",
      "\n",
      "from matplotlib.widgets import Slider\n",
      "\n",
      "fig, ax = plt.subplots()\n",
      "fig.subplots_adjust(bottom=0.2, left=0.1)\n",
      "\n",
      "t = np.linspace(0, 10, 1000)\n",
      "line, = plt.plot(t, np.sin(t), lw=2)\n",
      "\n",
      "def on_change(val):\n",
      "    line.set_ydata(np.sin(t - val))\n",
      "\n",
      "slider_ax = plt.axes([0.1, 0.1, 0.8, 0.02])\n",
      "slider = Slider(slider_ax, -5, 5, valinit=0, color='#AAAAAA')\n",
      "slider.on_changed(on_change)"
     ],
     "language": "python",
     "metadata": {},
     "outputs": [
      {
       "output_type": "stream",
       "stream": "stdout",
       "text": [
        "Populating the interactive namespace from numpy and matplotlib\n"
       ]
      },
      {
       "output_type": "stream",
       "stream": "stderr",
       "text": [
        "WARNING: pylab import has clobbered these variables: ['colors', 'uniform', 'shuffle', 'sample', 'size', 'interactive', 'seed', 'randint', 'random', 'triangular']\n",
        "`%matplotlib` prevents importing * from pylab and numpy\n"
       ]
      },
      {
       "ename": "TypeError",
       "evalue": "__init__() takes at least 5 arguments (5 given)",
       "output_type": "pyerr",
       "traceback": [
        "\u001b[0;31m---------------------------------------------------------------------------\u001b[0m\n\u001b[0;31mTypeError\u001b[0m                                 Traceback (most recent call last)",
        "\u001b[0;32m<ipython-input-41-e16e9c9ec158>\u001b[0m in \u001b[0;36m<module>\u001b[0;34m()\u001b[0m\n\u001b[1;32m     13\u001b[0m \u001b[0;34m\u001b[0m\u001b[0m\n\u001b[1;32m     14\u001b[0m \u001b[0mslider_ax\u001b[0m \u001b[0;34m=\u001b[0m \u001b[0mplt\u001b[0m\u001b[0;34m.\u001b[0m\u001b[0maxes\u001b[0m\u001b[0;34m(\u001b[0m\u001b[0;34m[\u001b[0m\u001b[0;36m0.1\u001b[0m\u001b[0;34m,\u001b[0m \u001b[0;36m0.1\u001b[0m\u001b[0;34m,\u001b[0m \u001b[0;36m0.8\u001b[0m\u001b[0;34m,\u001b[0m \u001b[0;36m0.02\u001b[0m\u001b[0;34m]\u001b[0m\u001b[0;34m)\u001b[0m\u001b[0;34m\u001b[0m\u001b[0m\n\u001b[0;32m---> 15\u001b[0;31m \u001b[0mslider\u001b[0m \u001b[0;34m=\u001b[0m \u001b[0mSlider\u001b[0m\u001b[0;34m(\u001b[0m\u001b[0mslider_ax\u001b[0m\u001b[0;34m,\u001b[0m \u001b[0;34m-\u001b[0m\u001b[0;36m5\u001b[0m\u001b[0;34m,\u001b[0m \u001b[0;36m5\u001b[0m\u001b[0;34m,\u001b[0m \u001b[0mvalinit\u001b[0m\u001b[0;34m=\u001b[0m\u001b[0;36m0\u001b[0m\u001b[0;34m,\u001b[0m \u001b[0mcolor\u001b[0m\u001b[0;34m=\u001b[0m\u001b[0;34m'#AAAAAA'\u001b[0m\u001b[0;34m)\u001b[0m\u001b[0;34m\u001b[0m\u001b[0m\n\u001b[0m\u001b[1;32m     16\u001b[0m \u001b[0mslider\u001b[0m\u001b[0;34m.\u001b[0m\u001b[0mon_changed\u001b[0m\u001b[0;34m(\u001b[0m\u001b[0mon_change\u001b[0m\u001b[0;34m)\u001b[0m\u001b[0;34m\u001b[0m\u001b[0m\n",
        "\u001b[0;31mTypeError\u001b[0m: __init__() takes at least 5 arguments (5 given)"
       ]
      },
      {
       "metadata": {},
       "output_type": "display_data",
       "png": "[encoded data removed]",
       "text": [
        "<matplotlib.figure.Figure at 0x1046f8c90>"
       ]
      }
     ],
     "prompt_number": 41
    },
    {
     "cell_type": "code",
     "collapsed": false,
     "input": [],
     "language": "python",
     "metadata": {},
     "outputs": []
    }
   ],
   "metadata": {}
  }
 ]
}